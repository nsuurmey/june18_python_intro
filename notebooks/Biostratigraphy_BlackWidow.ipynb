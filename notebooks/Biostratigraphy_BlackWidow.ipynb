{
 "cells": [
  {
   "cell_type": "markdown",
   "metadata": {},
   "source": [
    "# Question: What is the stratigraphy of the Black Widow Field in US GOM?\n",
    "\n",
    "You've been asked to figure understand a field that you have no previous experience with.  Before you load wells and seismic you understand the field by looking at the volumes of biostratigraphic data that have been reported to the US Government."
   ]
  },
  {
   "cell_type": "markdown",
   "metadata": {},
   "source": [
    "![alt text](../images/black_widow.png)"
   ]
  },
  {
   "cell_type": "code",
   "execution_count": null,
   "metadata": {},
   "outputs": [],
   "source": [
    "#Import libraries\n",
    "\n",
    "import numpy as np\n",
    "import pandas as pd\n",
    "import matplotlib.pyplot as plt\n",
    "%matplotlib inline\n",
    "import seaborn as sns\n",
    "sns.set()\n",
    "pd.set_option('max_colwidth', 140)"
   ]
  },
  {
   "cell_type": "code",
   "execution_count": null,
   "metadata": {},
   "outputs": [],
   "source": [
    "#list of well API's from Black Widow Field\n",
    "\n",
    "black_widow_wells = [608104004700, 608104010000, 608104010001, 608105002500, 608105002501, 608105006200, 608105006201, 608105006202, 608105007900, 608105007901, 608105007902,\n",
    "                      608105007903, 608105008000, 608105008001, 608105008002, 608105008003, 608105008004, 608105008005, 608105008006, 608105008007, 608105008008,\n",
    "                     608105008009, 608105008100, 608105008101, 608105008102, 608105008103, 608105008104, 608105008700, 608105009500, 608105009600,\n",
    "                     608105009601, 608105009800, 608105009801, 608105009900, 608105009901, 608105010000, 608105010001]"
   ]
  },
  {
   "cell_type": "markdown",
   "metadata": {},
   "source": [
    "## Step 1: Load and Inspect the Data"
   ]
  },
  {
   "cell_type": "code",
   "execution_count": null,
   "metadata": {},
   "outputs": [],
   "source": [
    "#Load and inspect data\n",
    "mess = pd.read_csv('../data/gepaldmp_Paleo.txt', header=None)\n",
    "mess.head()"
   ]
  },
  {
   "cell_type": "markdown",
   "metadata": {},
   "source": [
    "#### This is a mess, but not impossible.\n",
    "However, the header information for the table shows that the data is organized by start position, character length"
   ]
  },
  {
   "cell_type": "markdown",
   "metadata": {},
   "source": [
    "![alt text](../images/messy_data.png \"Header Information for Biostratigraphy Table\")"
   ]
  },
  {
   "cell_type": "markdown",
   "metadata": {},
   "source": [
    "## Step 2. Clean and Organize data"
   ]
  },
  {
   "cell_type": "markdown",
   "metadata": {},
   "source": [
    "##### We can use this information to index into the data to separate out the columns\n",
    "![alt text](../images/geology.png)"
   ]
  },
  {
   "cell_type": "code",
   "execution_count": null,
   "metadata": {},
   "outputs": [],
   "source": [
    "#example of indexing, \n",
    "#Note indexing starts with 0 and ends with the integer after the desired selection\n",
    "\n",
    "target = 'geology'\n",
    "\n",
    "print(target[0:3])\n",
    "print(target[3:7])"
   ]
  },
  {
   "cell_type": "code",
   "execution_count": null,
   "metadata": {},
   "outputs": [],
   "source": [
    "#Clean up table with indexing 12 separate columns\n",
    "\n",
    "#create empty dataframe\n",
    "df = pd.DataFrame()\n",
    "\n",
    "#Index the  columns from BOEM document instructions\n",
    "df['Point']=mess[0].str[0:1].astype(str)\n",
    "df['API']=mess[0].str[1:13].astype(np.int64)\n",
    "df['Report_ID']=mess[0].str[13:15].astype(int)\n",
    "df['Total_Report']=mess[0].str[15:17].astype(int)\n",
    "df['MD']=mess[0].str[17:22].astype(int)\n",
    "df['TVD']=mess[0].str[22:27].astype(int)\n",
    "df['Conf_PALEO']=mess[0].str[27:30].astype(str)\n",
    "df['AT_IN_PALEO']=mess[0].str[30:32].astype(str)\n",
    "df['PALEO']=mess[0].str[32:132].astype(str)\n",
    "df['Conf_ECO']=mess[0].str[132:135].astype(str)\n",
    "df['AT_IN_ECO']=mess[0].str[135:137].astype(str)\n",
    "df['ECO']=mess[0].str[137:138].astype(str)\n",
    "df['PALEO_clean'] = df['PALEO'].str.strip() #extra step to remove whitespace"
   ]
  },
  {
   "cell_type": "code",
   "execution_count": null,
   "metadata": {},
   "outputs": [],
   "source": [
    "#Inspect data table after indexing\n",
    "df.head()"
   ]
  },
  {
   "cell_type": "markdown",
   "metadata": {},
   "source": [
    "## Step 3. Filtering and add columns\n",
    "Looking over the first 5 rows of the dataframe we notice some data that isn't useful or is missing:\n",
    "1. We only want the biostratigraphic samples, not the mentions of \"salt\" or \"first sample examined\".  Let's filter those out.\n",
    "2. The \"PALE_clean\" column has lots of information in it (Epoch, Age, species).  Let's separate those out into separate columns.\n",
    "3. An Age Millions of Years column would be useful for plotting."
   ]
  },
  {
   "cell_type": "code",
   "execution_count": null,
   "metadata": {},
   "outputs": [],
   "source": [
    "#All \"Paleo_clean\" entries with bug names start with a classicifation of whether they are \"Upper, Middle, or Lower\"\n",
    "#We filter to rows that only contain these words.\n",
    "\n",
    "only_bugs = df[(df['PALEO_clean'].str.contains(\"Lower\"))|(df['PALEO_clean'].str.contains(\"Upper\"))|\n",
    "         (df['PALEO_clean'].str.contains(\"Middle\"))]"
   ]
  },
  {
   "cell_type": "code",
   "execution_count": null,
   "metadata": {},
   "outputs": [],
   "source": [
    "#To split a column we write a function that loops through a list of names\n",
    "\n",
    "new_cols = ['Epoch','Age', 'Species']\n",
    "\n",
    "only_bugs_split = only_bugs.copy()\n",
    "for i in range(0,3):\n",
    "    only_bugs_split[new_cols[i]]=only_bugs['PALEO_clean'].str.split(pat='\\(|\\)', expand=True)[i]\n",
    "\n",
    "#Inspect split table\n",
    "only_bugs_split=only_bugs_split.drop(['PALEO', 'PALEO_clean'], axis=1) #remove redundant columns \n",
    "only_bugs_split.head()"
   ]
  },
  {
   "cell_type": "markdown",
   "metadata": {},
   "source": [
    "### Using Dictionaries\n",
    "Python dictionaries are a data type that allows you to store a variety of informaiton so that it can be accessed later by different commands.  Here's an example about my favorite dinosaur: Triceratops.\n",
    "\n",
    "![alt text](../images/triceratops.png)"
   ]
  },
  {
   "cell_type": "code",
   "execution_count": null,
   "metadata": {},
   "outputs": [],
   "source": [
    "#Here's a premade dictionary that describes the youngest data for the ages from Jurassic to Present\n",
    "\n",
    "ages_dictionary = {'Albian': 100.5, 'Aptian': 113.0, 'Aquitanian': 20.44, 'Barremian': 125.0, 'Bartonian': 37.8, 'Berriasian': 139.8, 'Burdigalian': 15.97,\n",
    "                    'Calabrian': 0.012, 'Callovian': 163.5, 'Campanian': 72.1, 'Cenomanian': 93.9, 'Chattian': 23.03, 'Coniacian': 86.3, 'Danian': 61.6,\n",
    "                   'Gelasian': 1.8, 'Hauterivian': 129.4, 'Ionian': 0.7809999999999999, 'Kimmeridgian': 152.1, 'Langhian': 13.82, 'Lutetian': 41.2, 'Maastrichtian': 66.0,\n",
    "                    'Messinian': 5.33, 'Oxfordian': 157.3, 'Piacenzian': 2.58, 'Priabonian': 33.9, 'Rupelian': 27.82, 'Santonian': 83.6, 'Selandian': 59.2,\n",
    "                    'Serravallian': 11.63, 'Thanetian': 56.0, 'Tithonian': 145.0, 'Tortonian': 7.246, 'Turonian': 89.8, 'Valanginian': 132.9, 'Ypresian': 47.8, 'Zanclian': 3.6}"
   ]
  },
  {
   "cell_type": "code",
   "execution_count": null,
   "metadata": {},
   "outputs": [],
   "source": [
    "#Map Ages to Ages MA using the dictionary\n",
    "only_bugs_ages = only_bugs_split.copy()\n",
    "only_bugs_ages['Age_MA']=only_bugs_ages['Age'].map(ages_dictionary)\n",
    "only_bugs_ages.head()"
   ]
  },
  {
   "cell_type": "markdown",
   "metadata": {},
   "source": [
    "## Step 4. Understanding the Black Widow Field"
   ]
  },
  {
   "cell_type": "code",
   "execution_count": null,
   "metadata": {},
   "outputs": [],
   "source": [
    "#filter to only wells in Black Widow area\n",
    "black_widow_bugs = only_bugs_ages.loc[only_bugs_ages['API'].isin(black_widow_wells)]\n",
    "\n",
    "#list of only ages\n",
    "ages = black_widow_bugs['Age_MA'].values\n",
    "\n",
    "#plot histogram of ages\n",
    "plt.hist(ages, bins=100);"
   ]
  },
  {
   "cell_type": "markdown",
   "metadata": {},
   "source": [
    "### Spike at <5 Ma implies this is a Pliocene Field, but why are the samples from the Early Cenozoic and Mesozoic?\n",
    "### Let's try a different plot method."
   ]
  },
  {
   "cell_type": "code",
   "execution_count": null,
   "metadata": {},
   "outputs": [],
   "source": [
    "#Box Plots by well\n",
    "f, ax = plt.subplots(figsize=(20,10))\n",
    "sns.boxplot(x=\"API\", y=\"Age_MA\", data=black_widow_bugs)\n",
    "sns.swarmplot(x=\"API\", y=\"Age_MA\", data=black_widow_bugs,\n",
    "             size=2, color='black', linewidth=0)\n",
    "ax.invert_yaxis()"
   ]
  },
  {
   "cell_type": "markdown",
   "metadata": {},
   "source": [
    "### Looks like only one well is causing the anomalous values.  Remaining wells are mostly Pliocene age range.\n",
    "### Can we infer enviornment of deposition from the biostratigraphy?\n",
    "Ecozone classification (i.e. 1=Inner Shelf, 7=Abyssal) are reported for majority of the samples.  Plotting them as a scatter of Age MA vs. Ecozone will inform us how environments have changed through time."
   ]
  },
  {
   "cell_type": "code",
   "execution_count": null,
   "metadata": {},
   "outputs": [],
   "source": [
    "#Scatter Grid plot of Ecozones per well.\n",
    "\n",
    "bw_eco_bugs = black_widow_bugs.copy()\n",
    "bw_eco_bugs['ECO']=pd.to_numeric(bw_eco_bugs['ECO'], errors='coerce').dropna().astype(int) #remove rows where no ecozone data present\n",
    "\n",
    "g = sns.FacetGrid(bw_eco_bugs, col=\"API\", hue=\"ECO\", palette=\"YlGnBu\",\n",
    "                     col_wrap=4, height=4.5)\n",
    "g = g.map(plt.scatter, \"Age_MA\", 'ECO')"
   ]
  },
  {
   "cell_type": "code",
   "execution_count": null,
   "metadata": {},
   "outputs": [],
   "source": [
    "#Hierarchcal Table of bugs\n",
    "\n",
    "bug_table = black_widow_bugs[['Epoch', 'Age', 'Species', 'Age_MA']]\n",
    "bug_table = bug_table.groupby(['Epoch', 'Age', 'Species']).min()\n",
    "bug_table.sort_values('Age_MA')"
   ]
  },
  {
   "cell_type": "code",
   "execution_count": null,
   "metadata": {},
   "outputs": [],
   "source": []
  }
 ],
 "metadata": {
  "kernelspec": {
   "display_name": "Python 3",
   "language": "python",
   "name": "python3"
  },
  "language_info": {
   "codemirror_mode": {
    "name": "ipython",
    "version": 3
   },
   "file_extension": ".py",
   "mimetype": "text/x-python",
   "name": "python",
   "nbconvert_exporter": "python",
   "pygments_lexer": "ipython3",
   "version": "3.6.6"
  }
 },
 "nbformat": 4,
 "nbformat_minor": 2
}
