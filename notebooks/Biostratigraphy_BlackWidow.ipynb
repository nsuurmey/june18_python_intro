{
 "cells": [
  {
   "cell_type": "markdown",
   "metadata": {},
   "source": [
    "# Question: What is the stratigraphy of the Black Widow Field in US GOM?\n",
    "\n",
    "We are often asked questions about the subsurface that we try to approximate instead of getting the true value.  The problem isn't that we don't know how to answer it, the problem is that the data is in such a mess that it will take an inordinate amount of time to find the answer.\n",
    "\n",
    "In this notebook imagine that you've been asked to understand the stratigraphic distribution of a field you have no previous experience with.  You have two options:\n",
    "1. Create a nDI project with wells, tops, seismic, horizons, etc. and piece together the story.\n",
    "2. Dig into the biostratigraphic data which has everything you need but is a pain to deal with.\n",
    "\n",
    "Luckily, Python can help us with Option 2.  Let's explore a solution."
   ]
  },
  {
   "cell_type": "markdown",
   "metadata": {},
   "source": [
    "![alt text](../images/black_widow.png)"
   ]
  },
  {
   "cell_type": "markdown",
   "metadata": {},
   "source": [
    "## Step 1: Load and Inspect the Data\n",
    "Our data manager has given us a list of well API's for the Black Widow Field which we load into the notebook.  This is called a list.\n",
    "\n",
    "We know that all the biostratigraphic data we need is on the BOEM webiste:\n",
    "https://www.data.boem.gov/Main/Paleo.aspx#ascii\n",
    "\n",
    "We can download an txt file with these data.  Let's first load it into Pandas."
   ]
  },
  {
   "cell_type": "code",
   "execution_count": 1,
   "metadata": {},
   "outputs": [],
   "source": [
    "#Import libraries\n",
    "\n",
    "import numpy as np\n",
    "import pandas as pd\n",
    "import matplotlib.pyplot as plt\n",
    "%matplotlib inline\n",
    "import seaborn as sns\n",
    "sns.set()\n",
    "pd.set_option('max_colwidth', 140)\n",
    "from matplotlib.colors import ListedColormap"
   ]
  },
  {
   "cell_type": "code",
   "execution_count": null,
   "metadata": {},
   "outputs": [],
   "source": [
    "#list of well API's from Black Widow Field\n",
    "\n",
    "black_widow_wells = [608104004700, 608104010000, 608104010001, 608105002500, 608105002501, 608105006200, 608105006201, 608105006202, 608105007900, 608105007901, 608105007902,\n",
    "                      608105007903, 608105008000, 608105008001, 608105008002, 608105008003, 608105008004, 608105008005, 608105008006, 608105008007, 608105008008,\n",
    "                     608105008009, 608105008100, 608105008101, 608105008102, 608105008103, 608105008104, 608105008700, 608105009500, 608105009600,\n",
    "                     608105009601, 608105009800, 608105009801, 608105009900, 608105009901, 608105010000, 608105010001]"
   ]
  },
  {
   "cell_type": "code",
   "execution_count": null,
   "metadata": {},
   "outputs": [],
   "source": [
    "#Load and inspect data\n",
    "mess = pd.read_csv('../data/gepaldmp_Paleo.txt', header=None)\n",
    "mess.head()"
   ]
  },
  {
   "cell_type": "markdown",
   "metadata": {},
   "source": [
    "This is a __mess__, but not impossible.  The header information, foundon the website, for the table shows that the data is organized by start position, character length.  We can use this information to break out the data."
   ]
  },
  {
   "cell_type": "markdown",
   "metadata": {},
   "source": [
    "![alt text](../images/messy_data.png \"Header Information for Biostratigraphy Table\")"
   ]
  },
  {
   "cell_type": "markdown",
   "metadata": {},
   "source": [
    "## Step 2. Clean and Organize data"
   ]
  },
  {
   "cell_type": "markdown",
   "metadata": {},
   "source": [
    "To do the breakout we will use indexing which is part of core Python which allows a user to specify ranges of data to pull out and manipulate.  Each piece of data has an index that starts with 0.  In the example below we index the word \"geology\":\n",
    "![alt text](../images/geology.png)"
   ]
  },
  {
   "cell_type": "code",
   "execution_count": null,
   "metadata": {},
   "outputs": [],
   "source": [
    "#example of indexing, \n",
    "target = 'geology'\n",
    "\n",
    "print(target[0:3])\n",
    "print(target[3:7])"
   ]
  },
  {
   "cell_type": "markdown",
   "metadata": {},
   "source": [
    "Using the header ranges we can build a dataframe with all the data sepatated out."
   ]
  },
  {
   "cell_type": "code",
   "execution_count": null,
   "metadata": {},
   "outputs": [],
   "source": [
    "#Clean up table with indexing 12 separate columns\n",
    "\n",
    "#create empty dataframe\n",
    "df = pd.DataFrame()\n",
    "\n",
    "#Index the  columns from BOEM document instructions\n",
    "df['Point']=mess[0].str[0:1].astype(str)\n",
    "df['API']=mess[0].str[1:13].astype(np.int64)\n",
    "df['Report_ID']=mess[0].str[13:15].astype(int)\n",
    "df['Total_Report']=mess[0].str[15:17].astype(int)\n",
    "df['MD']=mess[0].str[17:22].astype(int)\n",
    "df['TVD']=mess[0].str[22:27].astype(int)\n",
    "df['Conf_PALEO']=mess[0].str[27:30].astype(str)\n",
    "df['AT_IN_PALEO']=mess[0].str[30:32].astype(str)\n",
    "df['PALEO']=mess[0].str[32:132].astype(str)\n",
    "df['Conf_ECO']=mess[0].str[132:135].astype(str)\n",
    "df['AT_IN_ECO']=mess[0].str[135:137].astype(str)\n",
    "df['ECO']=mess[0].str[137:138].astype(str)\n",
    "df['PALEO_clean'] = df['PALEO'].str.strip() #extra step to remove whitespace"
   ]
  },
  {
   "cell_type": "code",
   "execution_count": null,
   "metadata": {},
   "outputs": [],
   "source": [
    "#Show first 10 rows\n",
    "df.head(10)"
   ]
  },
  {
   "cell_type": "markdown",
   "metadata": {},
   "source": [
    "## Step 3. Filtering and add columns\n",
    "Looking over the first 10 rows of the dataframe we notice some data that isn't useful for our goal or is missing:\n",
    "1. We only want the biostratigraphic samples, not the mentions of \"salt\" or \"first sample examined\".  _Let's filter those out._\n",
    "2. The \"PALEO_clean\" column has lots of information in it (Epoch, Age, species).  _Let's separate those out into separate columns._\n",
    "3. An Age Millions of Years column would be useful for plotting. _Let's add a new column with dates._\n",
    "\n",
    "Even from our limited view we notice that if a column has bug information it will start with the Epoch and whether it is Upper, Middle, or Lower.  We can use these key words to filter just to the bugs."
   ]
  },
  {
   "cell_type": "code",
   "execution_count": null,
   "metadata": {},
   "outputs": [],
   "source": [
    "#Filter to rows containing \"Upper, Middle, or Lower\"\n",
    "only_bugs = df[(df['PALEO_clean'].str.contains(\"Lower\"))|(df['PALEO_clean'].str.contains(\"Upper\"))|\n",
    "         (df['PALEO_clean'].str.contains(\"Middle\"))]"
   ]
  },
  {
   "cell_type": "markdown",
   "metadata": {},
   "source": [
    "Next wek want to split out the \"PALEO_clean\" column so we have more columns to filter on.  To do so we'll create a loop that will go through each row and split data when it sees either a \"(\" or \")\".  The loop will also rename the columns based on a list we've generated.  Lastly we'll drop redundant columns."
   ]
  },
  {
   "cell_type": "code",
   "execution_count": null,
   "metadata": {},
   "outputs": [],
   "source": [
    "#Names of new columns we would like to add\n",
    "new_cols = ['Epoch','Age', 'Species']\n",
    "\n",
    "#Loop to split names\n",
    "only_bugs_split = only_bugs.copy()\n",
    "for i in range(0,3):\n",
    "    only_bugs_split[new_cols[i]]=only_bugs['PALEO_clean'].str.split(pat='\\(|\\)', expand=True)[i]\n",
    "\n",
    "#Remove redundant columns and inspect split table\n",
    "only_bugs_split=only_bugs_split.drop(['PALEO', 'PALEO_clean'], axis=1) \n",
    "only_bugs_split.head(10)"
   ]
  },
  {
   "cell_type": "markdown",
   "metadata": {},
   "source": [
    "### Using Dictionaries\n",
    "For the final step we want to add a numerica age to the table.  Since geologic ages are well publicized we only need to match the age to a defined number.  To do so we'll use another python data object called a dictionary.\n",
    "\n",
    "Python dictionaries are a data type that allows you to store a variety of informaiton so that it can be accessed later by different commands.  Here's an example about my favorite dinosaur: Triceratops.\n",
    "\n",
    "![alt text](../images/triceratops.png)"
   ]
  },
  {
   "cell_type": "code",
   "execution_count": null,
   "metadata": {},
   "outputs": [],
   "source": [
    "#Here's a premade dictionary that describes the youngest data for the ages from Jurassic to Present\n",
    "\n",
    "ages_dictionary = {'Albian': 100.5, 'Aptian': 113.0, 'Aquitanian': 20.44, 'Barremian': 125.0, 'Bartonian': 37.8, 'Berriasian': 139.8, 'Burdigalian': 15.97,\n",
    "                    'Calabrian': 0.012, 'Callovian': 163.5, 'Campanian': 72.1, 'Cenomanian': 93.9, 'Chattian': 23.03, 'Coniacian': 86.3, 'Danian': 61.6,\n",
    "                   'Gelasian': 1.8, 'Hauterivian': 129.4, 'Ionian': 0.7809999999999999, 'Kimmeridgian': 152.1, 'Langhian': 13.82, 'Lutetian': 41.2, 'Maastrichtian': 66.0,\n",
    "                    'Messinian': 5.33, 'Oxfordian': 157.3, 'Piacenzian': 2.58, 'Priabonian': 33.9, 'Rupelian': 27.82, 'Santonian': 83.6, 'Selandian': 59.2,\n",
    "                    'Serravallian': 11.63, 'Thanetian': 56.0, 'Tithonian': 145.0, 'Tortonian': 7.246, 'Turonian': 89.8, 'Valanginian': 132.9, 'Ypresian': 47.8, 'Zanclian': 3.6}"
   ]
  },
  {
   "cell_type": "code",
   "execution_count": null,
   "metadata": {},
   "outputs": [],
   "source": [
    "#You can do a lot with dictionaries including, looking up values\n",
    "ages_dictionary['Albian']"
   ]
  },
  {
   "cell_type": "code",
   "execution_count": null,
   "metadata": {},
   "outputs": [],
   "source": [
    "#Map Ages to Ages MA using the dictionary\n",
    "only_bugs_ages = only_bugs_split.copy()\n",
    "only_bugs_ages['Age_MA']=only_bugs_ages['Age'].map(ages_dictionary)\n",
    "only_bugs_ages.head()"
   ]
  },
  {
   "cell_type": "markdown",
   "metadata": {},
   "source": [
    "## Step 4. Understanding the Black Widow Field\n",
    "\n",
    "Now that we have our data the way we want it we can start with the analysis.\n",
    "\n",
    "The first question is, how are the ages distributed across the field? Let's use a histogram."
   ]
  },
  {
   "cell_type": "code",
   "execution_count": null,
   "metadata": {},
   "outputs": [],
   "source": [
    "#Filter to only wells in Black Widow area\n",
    "black_widow_bugs = only_bugs_ages.loc[only_bugs_ages['API'].isin(black_widow_wells)]\n",
    "\n",
    "#plot histogram \n",
    "fig = plt.subplots(figsize=(10,6))\n",
    "plt.hist(black_widow_bugs['Age_MA'].values, bins=100)\n",
    "plt.xlabel('Age (MA)')\n",
    "plt.title ('Histogram of Biostratigraphic Ages in Black Widow Field')\n",
    "plt.show()"
   ]
  },
  {
   "cell_type": "markdown",
   "metadata": {},
   "source": [
    "The majority of samples are <5 Ma, this is a Pliocene Field, but why are the samples from the Early Cenozoic and Mesozoic?\n",
    "### Box Plots by Well and Age\n",
    "Box plots so distributions betters so let's build one with wells on the x axis.  Let's also add the points so that we can see how the samples plot."
   ]
  },
  {
   "cell_type": "code",
   "execution_count": null,
   "metadata": {},
   "outputs": [],
   "source": [
    "#Box Plots by well\n",
    "f, ax = plt.subplots(figsize=(20,8))\n",
    "sns.boxplot(x=\"API\", y=\"Age_MA\", data=black_widow_bugs)\n",
    "sns.swarmplot(x=\"API\", y=\"Age_MA\", data=black_widow_bugs,\n",
    "             size=3, color='black', linewidth=0)\n",
    "ax.invert_yaxis()"
   ]
  },
  {
   "cell_type": "markdown",
   "metadata": {},
   "source": [
    "Looks like only one well is causing the anomalous values (608105008700).   Digging a bit deeper you would find that this well is called \"Chin Music\" and is famous in the GOM for being a strange well, not just because it found a Mesozoic section but also the way it is ordered.\n",
    "\n",
    "Let's plot ages with depth to see."
   ]
  },
  {
   "cell_type": "code",
   "execution_count": null,
   "metadata": {},
   "outputs": [],
   "source": [
    "chin_music = black_widow_bugs.query(\"API==608105008700\")\n",
    "my_cmap=ListedColormap(sns.color_palette(\"Paired\", 8))\n",
    "\n",
    "fig = plt.subplots(figsize=(10,6))\n",
    "plt.scatter(chin_music.Age_MA.values, chin_music.TVD.values, c=chin_music.Age_MA.values, s=70,cmap=my_cmap)\n",
    "plt.ylim(17000,6000)\n",
    "plt.xlabel('Age (MA)')\n",
    "plt.ylabel('Depth (TVD)')\n",
    "plt.xticks(rotation=90)\n",
    "plt.show()"
   ]
  },
  {
   "cell_type": "markdown",
   "metadata": {},
   "source": [
    "__That's weird!__  The shallow section starts in the Pliocene and progressively gets older.  Then at ~12,500 the well encounters Jurassic then Cretaceous then Paleogene, and finall TD's in the Miocene.  The stratigraphy is inverted.  In the GOM this is known as a Megaflap!"
   ]
  },
  {
   "cell_type": "markdown",
   "metadata": {},
   "source": [
    "### Enviornment of Deposition \n",
    "Another element in the biostratigraphic database is ecozone classification (i.e. 1=Inner Shelf, 7=Abyssal).  Plotting them as a scatter of Age MA vs. Ecozone will inform us how environments have changed through time."
   ]
  },
  {
   "cell_type": "code",
   "execution_count": null,
   "metadata": {},
   "outputs": [],
   "source": [
    "#Scatter Grid plot of Ecozones per well.\n",
    "\n",
    "bw_eco_bugs = black_widow_bugs.copy()\n",
    "bw_eco_bugs['ECO']=pd.to_numeric(bw_eco_bugs['ECO'], errors='coerce').dropna().astype(int) #remove rows where no ecozone data present\n",
    "\n",
    "g = sns.FacetGrid(bw_eco_bugs, col=\"API\", hue=\"ECO\", palette=\"YlGnBu\",\n",
    "                     col_wrap=4, height=4.5)\n",
    "g = g.map(plt.scatter, \"Age_MA\", 'ECO')"
   ]
  },
  {
   "cell_type": "markdown",
   "metadata": {},
   "source": [
    "Here we can see that majority of the wells in the Black Window field are in Ecozones 4-5, implying deeper water deposition.  Only Chin Music shows a variety where the Jurassic was deposited in Ecozone 2 (inner neritic) and progressively gets deeper through time."
   ]
  },
  {
   "cell_type": "markdown",
   "metadata": {},
   "source": [
    "### Stratigraphic Table\n",
    "Finally, we can use Pandas groupby function to create a table that clearly displays ages and bugs."
   ]
  },
  {
   "cell_type": "code",
   "execution_count": null,
   "metadata": {},
   "outputs": [],
   "source": [
    "#Hierarchcal Table of bugs\n",
    "\n",
    "bug_table = black_widow_bugs[['Epoch', 'Age', 'Species', 'Age_MA']]\n",
    "bug_table = bug_table.groupby(['Epoch', 'Age', 'Species']).min()\n",
    "bug_table.sort_values('Age_MA')"
   ]
  }
 ],
 "metadata": {
  "kernelspec": {
   "display_name": "Python 3",
   "language": "python",
   "name": "python3"
  },
  "language_info": {
   "codemirror_mode": {
    "name": "ipython",
    "version": 3
   },
   "file_extension": ".py",
   "mimetype": "text/x-python",
   "name": "python",
   "nbconvert_exporter": "python",
   "pygments_lexer": "ipython3",
   "version": "3.6.6"
  }
 },
 "nbformat": 4,
 "nbformat_minor": 2
}
