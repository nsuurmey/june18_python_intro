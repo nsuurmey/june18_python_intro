{
 "cells": [
  {
   "cell_type": "markdown",
   "metadata": {},
   "source": [
    "# Question: What is the stratigraphy of the Black Widow Field in US GOM?\n",
    "\n",
    "You've been asked to figure understand a field that you have no previous experience with.  Before you load wells and seismic you understand the field by looking at the volumes of biostratigraphic data that have been reported to the US Government."
   ]
  },
  {
   "cell_type": "markdown",
   "metadata": {},
   "source": [
    "![alt text](images/black_widow.png)"
   ]
  },
  {
   "cell_type": "code",
   "execution_count": 1,
   "metadata": {},
   "outputs": [],
   "source": [
    "#Import libraries\n",
    "\n",
    "import numpy as np\n",
    "import pandas as pd\n",
    "import matplotlib.pyplot as plt\n",
    "%matplotlib inline\n",
    "import seaborn as sns\n",
    "sns.set()\n",
    "pd.set_option('max_colwidth', 140)"
   ]
  },
  {
   "cell_type": "code",
   "execution_count": 2,
   "metadata": {},
   "outputs": [],
   "source": [
    "#list of well API's from Black Widow Field\n",
    "\n",
    "black_widow_wells = [608104004700, 608104010000, 608104010001, 608105002500, 608105002501, 608105006200, 608105006201, 608105006202, 608105007900, 608105007901, 608105007902,\n",
    "                      608105007903, 608105008000, 608105008001, 608105008002, 608105008003, 608105008004, 608105008005, 608105008006, 608105008007, 608105008008,\n",
    "                     608105008009, 608105008100, 608105008101, 608105008102, 608105008103, 608105008104, 608105008700, 608105009500, 608105009600,\n",
    "                     608105009601, 608105009800, 608105009801, 608105009900, 608105009901, 608105010000, 608105010001]"
   ]
  },
  {
   "cell_type": "markdown",
   "metadata": {},
   "source": [
    "## Step 1: Load and Inspect the Data"
   ]
  },
  {
   "cell_type": "code",
   "execution_count": 3,
   "metadata": {},
   "outputs": [
    {
     "data": {
      "text/html": [
       "<div>\n",
       "<style scoped>\n",
       "    .dataframe tbody tr th:only-of-type {\n",
       "        vertical-align: middle;\n",
       "    }\n",
       "\n",
       "    .dataframe tbody tr th {\n",
       "        vertical-align: top;\n",
       "    }\n",
       "\n",
       "    .dataframe thead th {\n",
       "        text-align: right;\n",
       "    }\n",
       "</style>\n",
       "<table border=\"1\" class=\"dataframe\">\n",
       "  <thead>\n",
       "    <tr style=\"text-align: right;\">\n",
       "      <th></th>\n",
       "      <th>0</th>\n",
       "    </tr>\n",
       "  </thead>\n",
       "  <tbody>\n",
       "    <tr>\n",
       "      <th>0</th>\n",
       "      <td>P608054001600 2 2 703007030DEFATfirst sample examined                                                                               DEFIN5</td>\n",
       "    </tr>\n",
       "    <tr>\n",
       "      <th>1</th>\n",
       "      <td>P608054001600 2 2 703107031DEFINLower Pleistocene (Calabrian) Sphaeroidinella dehiscens acme B                                      DEFIN5</td>\n",
       "    </tr>\n",
       "    <tr>\n",
       "      <th>2</th>\n",
       "      <td>P608054001600 2 2 724007240DEFATLower Pleistocene (Gelasian) Menardella miocenica                                                   DEFIN5</td>\n",
       "    </tr>\n",
       "    <tr>\n",
       "      <th>3</th>\n",
       "      <td>P608054001600 2 2 787307873DEFATlast sample examined                                                                                DEFIN5</td>\n",
       "    </tr>\n",
       "    <tr>\n",
       "      <th>4</th>\n",
       "      <td>P608054001600 3 2 703007030DEFATfirst sample examined                                                                               DEFAT</td>\n",
       "    </tr>\n",
       "  </tbody>\n",
       "</table>\n",
       "</div>"
      ],
      "text/plain": [
       "                                                                                                                                            0\n",
       "0  P608054001600 2 2 703007030DEFATfirst sample examined                                                                               DEFIN5\n",
       "1  P608054001600 2 2 703107031DEFINLower Pleistocene (Calabrian) Sphaeroidinella dehiscens acme B                                      DEFIN5\n",
       "2  P608054001600 2 2 724007240DEFATLower Pleistocene (Gelasian) Menardella miocenica                                                   DEFIN5\n",
       "3  P608054001600 2 2 787307873DEFATlast sample examined                                                                                DEFIN5\n",
       "4  P608054001600 3 2 703007030DEFATfirst sample examined                                                                               DEFAT "
      ]
     },
     "execution_count": 3,
     "metadata": {},
     "output_type": "execute_result"
    }
   ],
   "source": [
    "#Load and inspect data\n",
    "mess = pd.read_csv('..data/gepaldmp_Paleo.txt', header=None)\n",
    "mess.head()"
   ]
  },
  {
   "cell_type": "markdown",
   "metadata": {},
   "source": [
    "#### This is a mess, but not impossible.\n",
    "However, the header information for the table shows that the data is organized by start position, character length"
   ]
  },
  {
   "cell_type": "markdown",
   "metadata": {},
   "source": [
    "![alt text](images/messy_data.png \"Header Information for Biostratigraphy Table\")"
   ]
  },
  {
   "cell_type": "markdown",
   "metadata": {},
   "source": [
    "## Step 2. Clean and Organize data"
   ]
  },
  {
   "cell_type": "markdown",
   "metadata": {},
   "source": [
    "##### We can use this information to index into the data to separate out the columns\n",
    "![alt text](images/geology.png)"
   ]
  },
  {
   "cell_type": "code",
   "execution_count": 4,
   "metadata": {},
   "outputs": [
    {
     "name": "stdout",
     "output_type": "stream",
     "text": [
      "geo\n",
      "logy\n"
     ]
    }
   ],
   "source": [
    "#example of indexing, \n",
    "#Note indexing starts with 0 and ends with the integer after the desired selection\n",
    "\n",
    "target = 'geology'\n",
    "\n",
    "print(target[0:3])\n",
    "print(target[3:7])"
   ]
  },
  {
   "cell_type": "code",
   "execution_count": 5,
   "metadata": {},
   "outputs": [],
   "source": [
    "#Clean up table with indexing 12 separate columns\n",
    "\n",
    "#create empty dataframe\n",
    "df = pd.DataFrame()\n",
    "\n",
    "#Index the  columns from BOEM document instructions\n",
    "df['Point']=mess[0].str[0:1].astype(str)\n",
    "df['API']=mess[0].str[1:13].astype(np.int64)\n",
    "df['Report_ID']=mess[0].str[13:15].astype(int)\n",
    "df['Total_Report']=mess[0].str[15:17].astype(int)\n",
    "df['MD']=mess[0].str[17:22].astype(int)\n",
    "df['TVD']=mess[0].str[22:27].astype(int)\n",
    "df['Conf_PALEO']=mess[0].str[27:30].astype(str)\n",
    "df['AT_IN_PALEO']=mess[0].str[30:32].astype(str)\n",
    "df['PALEO']=mess[0].str[32:132].astype(str)\n",
    "df['Conf_ECO']=mess[0].str[132:135].astype(str)\n",
    "df['AT_IN_ECO']=mess[0].str[135:137].astype(str)\n",
    "df['ECO']=mess[0].str[137:138].astype(str)\n",
    "df['PALEO_clean'] = df['PALEO'].str.strip() #extra step to remove whitespace"
   ]
  },
  {
   "cell_type": "code",
   "execution_count": 6,
   "metadata": {},
   "outputs": [
    {
     "data": {
      "text/html": [
       "<div>\n",
       "<style scoped>\n",
       "    .dataframe tbody tr th:only-of-type {\n",
       "        vertical-align: middle;\n",
       "    }\n",
       "\n",
       "    .dataframe tbody tr th {\n",
       "        vertical-align: top;\n",
       "    }\n",
       "\n",
       "    .dataframe thead th {\n",
       "        text-align: right;\n",
       "    }\n",
       "</style>\n",
       "<table border=\"1\" class=\"dataframe\">\n",
       "  <thead>\n",
       "    <tr style=\"text-align: right;\">\n",
       "      <th></th>\n",
       "      <th>Point</th>\n",
       "      <th>API</th>\n",
       "      <th>Report_ID</th>\n",
       "      <th>Total_Report</th>\n",
       "      <th>MD</th>\n",
       "      <th>TVD</th>\n",
       "      <th>Conf_PALEO</th>\n",
       "      <th>AT_IN_PALEO</th>\n",
       "      <th>PALEO</th>\n",
       "      <th>Conf_ECO</th>\n",
       "      <th>AT_IN_ECO</th>\n",
       "      <th>ECO</th>\n",
       "      <th>PALEO_clean</th>\n",
       "    </tr>\n",
       "  </thead>\n",
       "  <tbody>\n",
       "    <tr>\n",
       "      <th>0</th>\n",
       "      <td>P</td>\n",
       "      <td>608054001600</td>\n",
       "      <td>2</td>\n",
       "      <td>2</td>\n",
       "      <td>7030</td>\n",
       "      <td>7030</td>\n",
       "      <td>DEF</td>\n",
       "      <td>AT</td>\n",
       "      <td>first sample examined</td>\n",
       "      <td>DEF</td>\n",
       "      <td>IN</td>\n",
       "      <td>5</td>\n",
       "      <td>first sample examined</td>\n",
       "    </tr>\n",
       "    <tr>\n",
       "      <th>1</th>\n",
       "      <td>P</td>\n",
       "      <td>608054001600</td>\n",
       "      <td>2</td>\n",
       "      <td>2</td>\n",
       "      <td>7031</td>\n",
       "      <td>7031</td>\n",
       "      <td>DEF</td>\n",
       "      <td>IN</td>\n",
       "      <td>Lower Pleistocene (Calabrian) Sphaeroidinella dehiscens acme B</td>\n",
       "      <td>DEF</td>\n",
       "      <td>IN</td>\n",
       "      <td>5</td>\n",
       "      <td>Lower Pleistocene (Calabrian) Sphaeroidinella dehiscens acme B</td>\n",
       "    </tr>\n",
       "    <tr>\n",
       "      <th>2</th>\n",
       "      <td>P</td>\n",
       "      <td>608054001600</td>\n",
       "      <td>2</td>\n",
       "      <td>2</td>\n",
       "      <td>7240</td>\n",
       "      <td>7240</td>\n",
       "      <td>DEF</td>\n",
       "      <td>AT</td>\n",
       "      <td>Lower Pleistocene (Gelasian) Menardella miocenica</td>\n",
       "      <td>DEF</td>\n",
       "      <td>IN</td>\n",
       "      <td>5</td>\n",
       "      <td>Lower Pleistocene (Gelasian) Menardella miocenica</td>\n",
       "    </tr>\n",
       "    <tr>\n",
       "      <th>3</th>\n",
       "      <td>P</td>\n",
       "      <td>608054001600</td>\n",
       "      <td>2</td>\n",
       "      <td>2</td>\n",
       "      <td>7873</td>\n",
       "      <td>7873</td>\n",
       "      <td>DEF</td>\n",
       "      <td>AT</td>\n",
       "      <td>last sample examined</td>\n",
       "      <td>DEF</td>\n",
       "      <td>IN</td>\n",
       "      <td>5</td>\n",
       "      <td>last sample examined</td>\n",
       "    </tr>\n",
       "    <tr>\n",
       "      <th>4</th>\n",
       "      <td>P</td>\n",
       "      <td>608054001600</td>\n",
       "      <td>3</td>\n",
       "      <td>2</td>\n",
       "      <td>7030</td>\n",
       "      <td>7030</td>\n",
       "      <td>DEF</td>\n",
       "      <td>AT</td>\n",
       "      <td>first sample examined</td>\n",
       "      <td>DEF</td>\n",
       "      <td>AT</td>\n",
       "      <td></td>\n",
       "      <td>first sample examined</td>\n",
       "    </tr>\n",
       "  </tbody>\n",
       "</table>\n",
       "</div>"
      ],
      "text/plain": [
       "  Point           API  Report_ID  Total_Report    MD   TVD Conf_PALEO  \\\n",
       "0     P  608054001600          2             2  7030  7030        DEF   \n",
       "1     P  608054001600          2             2  7031  7031        DEF   \n",
       "2     P  608054001600          2             2  7240  7240        DEF   \n",
       "3     P  608054001600          2             2  7873  7873        DEF   \n",
       "4     P  608054001600          3             2  7030  7030        DEF   \n",
       "\n",
       "  AT_IN_PALEO  \\\n",
       "0          AT   \n",
       "1          IN   \n",
       "2          AT   \n",
       "3          AT   \n",
       "4          AT   \n",
       "\n",
       "                                                                                                  PALEO  \\\n",
       "0  first sample examined                                                                                  \n",
       "1  Lower Pleistocene (Calabrian) Sphaeroidinella dehiscens acme B                                         \n",
       "2  Lower Pleistocene (Gelasian) Menardella miocenica                                                      \n",
       "3  last sample examined                                                                                   \n",
       "4  first sample examined                                                                                  \n",
       "\n",
       "  Conf_ECO AT_IN_ECO ECO  \\\n",
       "0      DEF        IN   5   \n",
       "1      DEF        IN   5   \n",
       "2      DEF        IN   5   \n",
       "3      DEF        IN   5   \n",
       "4      DEF        AT       \n",
       "\n",
       "                                                      PALEO_clean  \n",
       "0                                           first sample examined  \n",
       "1  Lower Pleistocene (Calabrian) Sphaeroidinella dehiscens acme B  \n",
       "2               Lower Pleistocene (Gelasian) Menardella miocenica  \n",
       "3                                            last sample examined  \n",
       "4                                           first sample examined  "
      ]
     },
     "execution_count": 6,
     "metadata": {},
     "output_type": "execute_result"
    }
   ],
   "source": [
    "#Inspect data table after indexing\n",
    "df.head()"
   ]
  },
  {
   "cell_type": "markdown",
   "metadata": {},
   "source": [
    "## Step 3. Filtering and add columns\n",
    "Looking over the first 5 rows of the dataframe we notice some data that isn't useful or is missing:\n",
    "1. We only want the biostratigraphic samples, not the mentions of \"salt\" or \"first sample examined\".  Let's filter those out.\n",
    "2. The \"PALE_clean\" column has lots of information in it (Epoch, Age, species).  Let's separate those out into separate columns.\n",
    "3. An Age Millions of Years column would be useful for plotting."
   ]
  },
  {
   "cell_type": "code",
   "execution_count": 7,
   "metadata": {},
   "outputs": [],
   "source": [
    "#All \"Paleo_clean\" entries with bug names start with a classicifation of whether they are \"Upper, Middle, or Lower\"\n",
    "#We filter to rows that only contain these words.\n",
    "\n",
    "only_bugs = df[(df['PALEO_clean'].str.contains(\"Lower\"))|(df['PALEO_clean'].str.contains(\"Upper\"))|\n",
    "         (df['PALEO_clean'].str.contains(\"Middle\"))]"
   ]
  },
  {
   "cell_type": "code",
   "execution_count": 8,
   "metadata": {},
   "outputs": [
    {
     "data": {
      "text/html": [
       "<div>\n",
       "<style scoped>\n",
       "    .dataframe tbody tr th:only-of-type {\n",
       "        vertical-align: middle;\n",
       "    }\n",
       "\n",
       "    .dataframe tbody tr th {\n",
       "        vertical-align: top;\n",
       "    }\n",
       "\n",
       "    .dataframe thead th {\n",
       "        text-align: right;\n",
       "    }\n",
       "</style>\n",
       "<table border=\"1\" class=\"dataframe\">\n",
       "  <thead>\n",
       "    <tr style=\"text-align: right;\">\n",
       "      <th></th>\n",
       "      <th>Point</th>\n",
       "      <th>API</th>\n",
       "      <th>Report_ID</th>\n",
       "      <th>Total_Report</th>\n",
       "      <th>MD</th>\n",
       "      <th>TVD</th>\n",
       "      <th>Conf_PALEO</th>\n",
       "      <th>AT_IN_PALEO</th>\n",
       "      <th>Conf_ECO</th>\n",
       "      <th>AT_IN_ECO</th>\n",
       "      <th>ECO</th>\n",
       "      <th>Epoch</th>\n",
       "      <th>Age</th>\n",
       "      <th>Species</th>\n",
       "    </tr>\n",
       "  </thead>\n",
       "  <tbody>\n",
       "    <tr>\n",
       "      <th>1</th>\n",
       "      <td>P</td>\n",
       "      <td>608054001600</td>\n",
       "      <td>2</td>\n",
       "      <td>2</td>\n",
       "      <td>7031</td>\n",
       "      <td>7031</td>\n",
       "      <td>DEF</td>\n",
       "      <td>IN</td>\n",
       "      <td>DEF</td>\n",
       "      <td>IN</td>\n",
       "      <td>5</td>\n",
       "      <td>Lower Pleistocene</td>\n",
       "      <td>Calabrian</td>\n",
       "      <td>Sphaeroidinella dehiscens acme B</td>\n",
       "    </tr>\n",
       "    <tr>\n",
       "      <th>2</th>\n",
       "      <td>P</td>\n",
       "      <td>608054001600</td>\n",
       "      <td>2</td>\n",
       "      <td>2</td>\n",
       "      <td>7240</td>\n",
       "      <td>7240</td>\n",
       "      <td>DEF</td>\n",
       "      <td>AT</td>\n",
       "      <td>DEF</td>\n",
       "      <td>IN</td>\n",
       "      <td>5</td>\n",
       "      <td>Lower Pleistocene</td>\n",
       "      <td>Gelasian</td>\n",
       "      <td>Menardella miocenica</td>\n",
       "    </tr>\n",
       "    <tr>\n",
       "      <th>5</th>\n",
       "      <td>P</td>\n",
       "      <td>608054001600</td>\n",
       "      <td>3</td>\n",
       "      <td>2</td>\n",
       "      <td>7031</td>\n",
       "      <td>7031</td>\n",
       "      <td>DEF</td>\n",
       "      <td>IN</td>\n",
       "      <td>DEF</td>\n",
       "      <td>AT</td>\n",
       "      <td></td>\n",
       "      <td>Lower Pleistocene</td>\n",
       "      <td>Gelasian</td>\n",
       "      <td>Discoaster brouweri</td>\n",
       "    </tr>\n",
       "    <tr>\n",
       "      <th>6</th>\n",
       "      <td>P</td>\n",
       "      <td>608054001600</td>\n",
       "      <td>3</td>\n",
       "      <td>2</td>\n",
       "      <td>7270</td>\n",
       "      <td>7270</td>\n",
       "      <td>POS</td>\n",
       "      <td>AT</td>\n",
       "      <td>DEF</td>\n",
       "      <td>AT</td>\n",
       "      <td></td>\n",
       "      <td>Lower Pleistocene</td>\n",
       "      <td>Gelasian</td>\n",
       "      <td>Discoaster pentaradiatus</td>\n",
       "    </tr>\n",
       "    <tr>\n",
       "      <th>7</th>\n",
       "      <td>P</td>\n",
       "      <td>608054001600</td>\n",
       "      <td>3</td>\n",
       "      <td>2</td>\n",
       "      <td>7840</td>\n",
       "      <td>7840</td>\n",
       "      <td>DEF</td>\n",
       "      <td>AT</td>\n",
       "      <td>DEF</td>\n",
       "      <td>AT</td>\n",
       "      <td></td>\n",
       "      <td>Lower Pleistocene</td>\n",
       "      <td>Gelasian</td>\n",
       "      <td>Discoaster surculus</td>\n",
       "    </tr>\n",
       "  </tbody>\n",
       "</table>\n",
       "</div>"
      ],
      "text/plain": [
       "  Point           API  Report_ID  Total_Report    MD   TVD Conf_PALEO  \\\n",
       "1     P  608054001600          2             2  7031  7031        DEF   \n",
       "2     P  608054001600          2             2  7240  7240        DEF   \n",
       "5     P  608054001600          3             2  7031  7031        DEF   \n",
       "6     P  608054001600          3             2  7270  7270        POS   \n",
       "7     P  608054001600          3             2  7840  7840        DEF   \n",
       "\n",
       "  AT_IN_PALEO Conf_ECO AT_IN_ECO ECO               Epoch        Age  \\\n",
       "1          IN      DEF        IN   5  Lower Pleistocene   Calabrian   \n",
       "2          AT      DEF        IN   5  Lower Pleistocene    Gelasian   \n",
       "5          IN      DEF        AT      Lower Pleistocene    Gelasian   \n",
       "6          AT      DEF        AT      Lower Pleistocene    Gelasian   \n",
       "7          AT      DEF        AT      Lower Pleistocene    Gelasian   \n",
       "\n",
       "                             Species  \n",
       "1   Sphaeroidinella dehiscens acme B  \n",
       "2               Menardella miocenica  \n",
       "5                Discoaster brouweri  \n",
       "6           Discoaster pentaradiatus  \n",
       "7                Discoaster surculus  "
      ]
     },
     "execution_count": 8,
     "metadata": {},
     "output_type": "execute_result"
    }
   ],
   "source": [
    "#To split a column we write a function that loops through a list of names\n",
    "\n",
    "new_cols = ['Epoch','Age', 'Species']\n",
    "\n",
    "only_bugs_split = only_bugs.copy()\n",
    "for i in range(0,3):\n",
    "    only_bugs_split[new_cols[i]]=only_bugs['PALEO_clean'].str.split(pat='\\(|\\)', expand=True)[i]\n",
    "\n",
    "#Inspect split table\n",
    "only_bugs_split=only_bugs_split.drop(['PALEO', 'PALEO_clean'], axis=1) #remove redundant columns \n",
    "only_bugs_split.head()"
   ]
  },
  {
   "cell_type": "markdown",
   "metadata": {},
   "source": [
    "### Using Dictionaries\n",
    "Python dictionaries are a data type that allows you to store a variety of informaiton so that it can be accessed later by different commands.  Here's an example about my favorite dinosaur: Triceratops.\n",
    "\n",
    "![alt text](images/triceratops.png)"
   ]
  },
  {
   "cell_type": "code",
   "execution_count": 9,
   "metadata": {},
   "outputs": [],
   "source": [
    "#Here's a premade dictionary that describes the youngest data for the ages from Jurassic to Present\n",
    "\n",
    "ages_dictionary = {'Albian': 100.5, 'Aptian': 113.0, 'Aquitanian': 20.44, 'Barremian': 125.0, 'Bartonian': 37.8, 'Berriasian': 139.8, 'Burdigalian': 15.97,\n",
    "                    'Calabrian': 0.012, 'Callovian': 163.5, 'Campanian': 72.1, 'Cenomanian': 93.9, 'Chattian': 23.03, 'Coniacian': 86.3, 'Danian': 61.6,\n",
    "                   'Gelasian': 1.8, 'Hauterivian': 129.4, 'Ionian': 0.7809999999999999, 'Kimmeridgian': 152.1, 'Langhian': 13.82, 'Lutetian': 41.2, 'Maastrichtian': 66.0,\n",
    "                    'Messinian': 5.33, 'Oxfordian': 157.3, 'Piacenzian': 2.58, 'Priabonian': 33.9, 'Rupelian': 27.82, 'Santonian': 83.6, 'Selandian': 59.2,\n",
    "                    'Serravallian': 11.63, 'Thanetian': 56.0, 'Tithonian': 145.0, 'Tortonian': 7.246, 'Turonian': 89.8, 'Valanginian': 132.9, 'Ypresian': 47.8, 'Zanclian': 3.6}"
   ]
  },
  {
   "cell_type": "code",
   "execution_count": 11,
   "metadata": {},
   "outputs": [
    {
     "data": {
      "text/html": [
       "<div>\n",
       "<style scoped>\n",
       "    .dataframe tbody tr th:only-of-type {\n",
       "        vertical-align: middle;\n",
       "    }\n",
       "\n",
       "    .dataframe tbody tr th {\n",
       "        vertical-align: top;\n",
       "    }\n",
       "\n",
       "    .dataframe thead th {\n",
       "        text-align: right;\n",
       "    }\n",
       "</style>\n",
       "<table border=\"1\" class=\"dataframe\">\n",
       "  <thead>\n",
       "    <tr style=\"text-align: right;\">\n",
       "      <th></th>\n",
       "      <th>Point</th>\n",
       "      <th>API</th>\n",
       "      <th>Report_ID</th>\n",
       "      <th>Total_Report</th>\n",
       "      <th>MD</th>\n",
       "      <th>TVD</th>\n",
       "      <th>Conf_PALEO</th>\n",
       "      <th>AT_IN_PALEO</th>\n",
       "      <th>Conf_ECO</th>\n",
       "      <th>AT_IN_ECO</th>\n",
       "      <th>ECO</th>\n",
       "      <th>Epoch</th>\n",
       "      <th>Age</th>\n",
       "      <th>Species</th>\n",
       "      <th>Age_MA</th>\n",
       "    </tr>\n",
       "  </thead>\n",
       "  <tbody>\n",
       "    <tr>\n",
       "      <th>1</th>\n",
       "      <td>P</td>\n",
       "      <td>608054001600</td>\n",
       "      <td>2</td>\n",
       "      <td>2</td>\n",
       "      <td>7031</td>\n",
       "      <td>7031</td>\n",
       "      <td>DEF</td>\n",
       "      <td>IN</td>\n",
       "      <td>DEF</td>\n",
       "      <td>IN</td>\n",
       "      <td>5</td>\n",
       "      <td>Lower Pleistocene</td>\n",
       "      <td>Calabrian</td>\n",
       "      <td>Sphaeroidinella dehiscens acme B</td>\n",
       "      <td>0.012</td>\n",
       "    </tr>\n",
       "    <tr>\n",
       "      <th>2</th>\n",
       "      <td>P</td>\n",
       "      <td>608054001600</td>\n",
       "      <td>2</td>\n",
       "      <td>2</td>\n",
       "      <td>7240</td>\n",
       "      <td>7240</td>\n",
       "      <td>DEF</td>\n",
       "      <td>AT</td>\n",
       "      <td>DEF</td>\n",
       "      <td>IN</td>\n",
       "      <td>5</td>\n",
       "      <td>Lower Pleistocene</td>\n",
       "      <td>Gelasian</td>\n",
       "      <td>Menardella miocenica</td>\n",
       "      <td>1.800</td>\n",
       "    </tr>\n",
       "    <tr>\n",
       "      <th>5</th>\n",
       "      <td>P</td>\n",
       "      <td>608054001600</td>\n",
       "      <td>3</td>\n",
       "      <td>2</td>\n",
       "      <td>7031</td>\n",
       "      <td>7031</td>\n",
       "      <td>DEF</td>\n",
       "      <td>IN</td>\n",
       "      <td>DEF</td>\n",
       "      <td>AT</td>\n",
       "      <td></td>\n",
       "      <td>Lower Pleistocene</td>\n",
       "      <td>Gelasian</td>\n",
       "      <td>Discoaster brouweri</td>\n",
       "      <td>1.800</td>\n",
       "    </tr>\n",
       "    <tr>\n",
       "      <th>6</th>\n",
       "      <td>P</td>\n",
       "      <td>608054001600</td>\n",
       "      <td>3</td>\n",
       "      <td>2</td>\n",
       "      <td>7270</td>\n",
       "      <td>7270</td>\n",
       "      <td>POS</td>\n",
       "      <td>AT</td>\n",
       "      <td>DEF</td>\n",
       "      <td>AT</td>\n",
       "      <td></td>\n",
       "      <td>Lower Pleistocene</td>\n",
       "      <td>Gelasian</td>\n",
       "      <td>Discoaster pentaradiatus</td>\n",
       "      <td>1.800</td>\n",
       "    </tr>\n",
       "    <tr>\n",
       "      <th>7</th>\n",
       "      <td>P</td>\n",
       "      <td>608054001600</td>\n",
       "      <td>3</td>\n",
       "      <td>2</td>\n",
       "      <td>7840</td>\n",
       "      <td>7840</td>\n",
       "      <td>DEF</td>\n",
       "      <td>AT</td>\n",
       "      <td>DEF</td>\n",
       "      <td>AT</td>\n",
       "      <td></td>\n",
       "      <td>Lower Pleistocene</td>\n",
       "      <td>Gelasian</td>\n",
       "      <td>Discoaster surculus</td>\n",
       "      <td>1.800</td>\n",
       "    </tr>\n",
       "  </tbody>\n",
       "</table>\n",
       "</div>"
      ],
      "text/plain": [
       "  Point           API  Report_ID  Total_Report    MD   TVD Conf_PALEO  \\\n",
       "1     P  608054001600          2             2  7031  7031        DEF   \n",
       "2     P  608054001600          2             2  7240  7240        DEF   \n",
       "5     P  608054001600          3             2  7031  7031        DEF   \n",
       "6     P  608054001600          3             2  7270  7270        POS   \n",
       "7     P  608054001600          3             2  7840  7840        DEF   \n",
       "\n",
       "  AT_IN_PALEO Conf_ECO AT_IN_ECO ECO               Epoch        Age  \\\n",
       "1          IN      DEF        IN   5  Lower Pleistocene   Calabrian   \n",
       "2          AT      DEF        IN   5  Lower Pleistocene    Gelasian   \n",
       "5          IN      DEF        AT      Lower Pleistocene    Gelasian   \n",
       "6          AT      DEF        AT      Lower Pleistocene    Gelasian   \n",
       "7          AT      DEF        AT      Lower Pleistocene    Gelasian   \n",
       "\n",
       "                             Species  Age_MA  \n",
       "1   Sphaeroidinella dehiscens acme B   0.012  \n",
       "2               Menardella miocenica   1.800  \n",
       "5                Discoaster brouweri   1.800  \n",
       "6           Discoaster pentaradiatus   1.800  \n",
       "7                Discoaster surculus   1.800  "
      ]
     },
     "execution_count": 11,
     "metadata": {},
     "output_type": "execute_result"
    }
   ],
   "source": [
    "#Map Ages to Ages MA using the dictionary\n",
    "only_bugs_ages = only_bugs_split.copy()\n",
    "only_bugs_ages['Age_MA']=only_bugs_ages['Age'].map(ages_dictionary)\n",
    "only_bugs_ages.head()"
   ]
  },
  {
   "cell_type": "markdown",
   "metadata": {},
   "source": [
    "## Step 4. Understanding the Black Widow Field"
   ]
  },
  {
   "cell_type": "code",
   "execution_count": 12,
   "metadata": {},
   "outputs": [
    {
     "name": "stderr",
     "output_type": "stream",
     "text": [
      "C:\\Users\\Nathan.Suurmeyer\\AppData\\Local\\Continuum\\anaconda3\\envs\\pyvize\\lib\\site-packages\\numpy\\lib\\histograms.py:754: RuntimeWarning: invalid value encountered in greater_equal\n",
      "  keep = (tmp_a >= first_edge)\n",
      "C:\\Users\\Nathan.Suurmeyer\\AppData\\Local\\Continuum\\anaconda3\\envs\\pyvize\\lib\\site-packages\\numpy\\lib\\histograms.py:755: RuntimeWarning: invalid value encountered in less_equal\n",
      "  keep &= (tmp_a <= last_edge)\n"
     ]
    },
    {
     "data": {
      "image/png": "[encoded data removed]",
      "text/plain": [
       "<Figure size 432x288 with 1 Axes>"
      ]
     },
     "metadata": {
      "needs_background": "light"
     },
     "output_type": "display_data"
    }
   ],
   "source": [
    "#filter to only wells in Black Widow area\n",
    "black_widow_bugs = only_bugs_ages.loc[only_bugs_ages['API'].isin(black_widow_wells)]\n",
    "\n",
    "#list of only ages\n",
    "ages = black_widow_bugs['Age_MA'].values\n",
    "\n",
    "#plot histogram of ages\n",
    "plt.hist(ages, bins=100);"
   ]
  },
  {
   "cell_type": "markdown",
   "metadata": {},
   "source": [
    "### Spike at <5 Ma implies this is a Pliocene Field, but why are the samples from the Early Cenozoic and Mesozoic?\n",
    "### Let's try a different plot method."
   ]
  },
  {
   "cell_type": "code",
   "execution_count": 13,
   "metadata": {},
   "outputs": [
    {
     "data": {
      "image/png": "[encoded data removed]",
      "text/plain": [
       "<Figure size 1440x720 with 1 Axes>"
      ]
     },
     "metadata": {
      "needs_background": "light"
     },
     "output_type": "display_data"
    }
   ],
   "source": [
    "#Box Plots by well\n",
    "f, ax = plt.subplots(figsize=(20,10))\n",
    "sns.boxplot(x=\"API\", y=\"Age_MA\", data=black_widow_bugs)\n",
    "sns.swarmplot(x=\"API\", y=\"Age_MA\", data=black_widow_bugs,\n",
    "             size=2, color='black', linewidth=0)\n",
    "ax.invert_yaxis()"
   ]
  },
  {
   "cell_type": "markdown",
   "metadata": {},
   "source": [
    "### Looks like only one well is causing the anomalous values.  Remaining wells are mostly Pliocene age range.\n",
    "### Can we infer enviornment of deposition from the biostratigraphy?\n",
    "Ecozone classification (i.e. 1=Inner Shelf, 7=Abyssal) are reported for majority of the samples.  Plotting them as a scatter of Age MA vs. Ecozone will inform us how environments have changed through time."
   ]
  },
  {
   "cell_type": "code",
   "execution_count": 14,
   "metadata": {},
   "outputs": [
    {
     "data": {
      "image/png": "[encoded data removed]",
      "text/plain": [
       "<Figure size 1296x972 with 10 Axes>"
      ]
     },
     "metadata": {
      "needs_background": "light"
     },
     "output_type": "display_data"
    }
   ],
   "source": [
    "#Scatter Grid plot of Ecozones per well.\n",
    "\n",
    "bw_eco_bugs = black_widow_bugs.copy()\n",
    "bw_eco_bugs['ECO']=pd.to_numeric(bw_eco_bugs['ECO'], errors='coerce').dropna().astype(int) #remove rows where no ecozone data present\n",
    "\n",
    "g = sns.FacetGrid(bw_eco_bugs, col=\"API\", hue=\"ECO\", palette=\"YlGnBu\",\n",
    "                     col_wrap=4, height=4.5)\n",
    "g = g.map(plt.scatter, \"Age_MA\", 'ECO')"
   ]
  }
 ],
 "metadata": {
  "kernelspec": {
   "display_name": "Python 3",
   "language": "python",
   "name": "python3"
  },
  "language_info": {
   "codemirror_mode": {
    "name": "ipython",
    "version": 3
   },
   "file_extension": ".py",
   "mimetype": "text/x-python",
   "name": "python",
   "nbconvert_exporter": "python",
   "pygments_lexer": "ipython3",
   "version": "3.6.6"
  }
 },
 "nbformat": 4,
 "nbformat_minor": 2
}
