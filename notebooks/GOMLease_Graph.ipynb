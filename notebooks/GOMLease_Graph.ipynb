{
 "cells": [
  {
   "cell_type": "markdown",
   "metadata": {},
   "source": [
    "# Oil & Gas as a Social Network\n",
    "\n",
    "Almost all data types that we work with have many to many relationships.\n",
    "* A well top has relationships to biostratigraph picks, wells, and seismic surfaces.\n",
    "* A seismic cube has relationships to a processing report, a velocity cube, and the wells inside them.\n",
    "* A block has relationships to companies, lease terms, and the basin it sits within.\n",
    "\n",
    "Graphs are a way to show these relationships and should be used to supplement maps, wellsections, etc. so that we can see the larger story of how different pieces of data are connected.\n",
    "\n",
    "As an example, let's look at the results of the latest lease sale in the U.S. GOM.  Different companies can bid large sums of money together or separately on different blocks all of which isn't immediately apparent when looking at a map of thousands of little squares. \n",
    "\n",
    "Concepts and code for this exercise taken from:\n",
    "https://github.com/rtidatascience/connected-nx-tutorial"
   ]
  },
  {
   "cell_type": "markdown",
   "metadata": {},
   "source": [
    "![alt text](../images/gom_ls_252_map.png)"
   ]
  },
  {
   "cell_type": "markdown",
   "metadata": {},
   "source": [
    "### Step 1. Load and Connect Data\n",
    "Lease sale data is available from the US BOEM:</br>\n",
    "https://www.boem.gov/Sale-252/</br>\n",
    "However, these data are a __mess!__  Data is divided into 5 different files with different names and indexes.  It takes a bit of study to connect them all into a single dataframe.  Let's start:"
   ]
  },
  {
   "cell_type": "code",
   "execution_count": null,
   "metadata": {},
   "outputs": [],
   "source": [
    "#import libraries\n",
    "\n",
    "import numpy as np\n",
    "import pandas as pd\n",
    "import networkx as nx\n",
    "import matplotlib.pyplot as plt\n",
    "%matplotlib inline\n",
    "import seaborn as sns\n",
    "from matplotlib import cm"
   ]
  },
  {
   "cell_type": "markdown",
   "metadata": {},
   "source": [
    "The first table contains the bids, companies (as a code) and blocks (as a lease number)."
   ]
  },
  {
   "cell_type": "code",
   "execution_count": null,
   "metadata": {},
   "outputs": [],
   "source": [
    "#names for columns\n",
    "names = ['sale', 'lease', 'bid_amount', 'company_num', 'precentage_bid']\n",
    "\n",
    "#load data\n",
    "bids = pd.read_csv('../data/BID.txt', sep='\\s+', names=names)\n",
    "\n",
    "#clean lease name to match with another table\n",
    "bids['lease']=bids['lease'].str[1:].astype(int)\n",
    "\n",
    "#show first 5 rows\n",
    "bids.head()"
   ]
  },
  {
   "cell_type": "markdown",
   "metadata": {},
   "source": [
    "The next table connects the company name to company code.  We'll only need a portion of this dataframe to build the graph."
   ]
  },
  {
   "cell_type": "code",
   "execution_count": null,
   "metadata": {},
   "outputs": [],
   "source": [
    "#load data\n",
    "companies = pd.read_csv('../data/Company2.TXT', usecols=[0], header=None)\n",
    "\n",
    "#rename columns\n",
    "companies['company_num']=companies[0].str[:6].astype(int)\n",
    "companies['company']=companies[0].str[6:]\n",
    "\n",
    "#remove redundant columns\n",
    "companies = companies.drop([0], axis=1)\n",
    "\n",
    "#show first 5 rows\n",
    "companies.head()"
   ]
  },
  {
   "cell_type": "markdown",
   "metadata": {},
   "source": [
    "The last table to load allows us to connect their lease number to a block name."
   ]
  },
  {
   "cell_type": "code",
   "execution_count": null,
   "metadata": {},
   "outputs": [],
   "source": [
    "#names of columns\n",
    "pnames = ['lease', 'protraction_id', 'block_num', 'acreage', 'size', 'percentage', 'rcode', 'term', 'number_bids']\n",
    "\n",
    "#load data\n",
    "prebid = pd.read_csv('../data/PREBID.txt', sep='\\s+', names=pnames, index_col=None)\n",
    "\n",
    "#show first 5 rows\n",
    "prebid.head()"
   ]
  },
  {
   "cell_type": "markdown",
   "metadata": {},
   "source": [
    "### Step 2. Merge to Single Table\n",
    "One of Pandas strengths is merging, joining, and concatenating different dataframes.  We'll merge files twice: \n",
    "1. Bids to Company to tie company name to their bid amounts and blocks\n",
    "2. Bids to Blocks to tie official block names to companies and bid amounts"
   ]
  },
  {
   "cell_type": "code",
   "execution_count": null,
   "metadata": {},
   "outputs": [],
   "source": [
    "#Merge bids and companies to get official names\n",
    "dfa = pd.merge(bids, companies, on=['company_num', 'company_num'])\n",
    "\n",
    "#show first 5 rows\n",
    "dfa.head()"
   ]
  },
  {
   "cell_type": "code",
   "execution_count": null,
   "metadata": {},
   "outputs": [],
   "source": [
    "#Merge bids and blocks\n",
    "dfb = pd.merge(prebid[['lease','protraction_id', 'block_num']], dfa)\n",
    "\n",
    "#Create single column for block name\n",
    "dfb['block_code']=dfb.protraction_id+' - '+dfb.block_num\n",
    "\n",
    "#Convert bid amount to $mlns\n",
    "dfb['bid_amount']=dfb['bid_amount']/1000000\n",
    "\n",
    "#show first 5 rows\n",
    "dfb.head()"
   ]
  },
  {
   "cell_type": "markdown",
   "metadata": {},
   "source": [
    "We are ready to go."
   ]
  },
  {
   "cell_type": "markdown",
   "metadata": {},
   "source": [
    "### Step 3. Build the Graph\n",
    "\n",
    "We'll be using two different libraries here:\n",
    "* Networkx - the engine to build and analyze graphs\n",
    "* Holoviews - creates nice looking, interactive plots in Jupyter environment\n",
    "\n",
    "First let's build the graph in a series of steps:\n",
    "1. Create list of nodes.\n",
    "2. Create attributes for those nodes which will aid in visualization.\n",
    "3. Connect edges to nodes and create edge attributes directly from Pandas"
   ]
  },
  {
   "cell_type": "code",
   "execution_count": null,
   "metadata": {},
   "outputs": [],
   "source": [
    "#Build lists of nodes\n",
    "comps = list(set(dfb.company.values))\n",
    "blocks =  list(set(dfb.block_code.values))"
   ]
  },
  {
   "cell_type": "code",
   "execution_count": null,
   "metadata": {},
   "outputs": [],
   "source": [
    "#Create dictionaries of attributes for each node\n",
    "\n",
    "#For Companies\n",
    "cdicts = {}\n",
    "cvalues = {\"status\":\"company\"}\n",
    "for i in comps:\n",
    "    cdicts[i]=cvalues\n",
    "\n",
    "#For Blocks\n",
    "bdicts = {}\n",
    "bvalues = {\"status\":\"block\"}\n",
    "for i in blocks:\n",
    "    bdicts[i]=bvalues"
   ]
  },
  {
   "cell_type": "code",
   "execution_count": null,
   "metadata": {},
   "outputs": [],
   "source": [
    "#Build Edges from Pandas\n",
    "G = nx.from_pandas_edgelist(dfb, 'block_code', 'company', edge_attr=['bid_amount', 'precentage_bid'])\n",
    "\n",
    "#Add node attributes\n",
    "nx.set_node_attributes(G, cdicts)\n",
    "nx.set_node_attributes(G, bdicts)\n",
    "\n",
    "#Metrics of graph\n",
    "print(nx.info(G))"
   ]
  },
  {
   "cell_type": "markdown",
   "metadata": {},
   "source": [
    "Before we plot the big graph let's see what we built on a subgraph to understand what data is available."
   ]
  },
  {
   "cell_type": "code",
   "execution_count": null,
   "metadata": {},
   "outputs": [],
   "source": [
    "#Generate small dataset\n",
    "focus_exploration = dfb[dfb['company'].str.contains('Focus')]\n",
    "focus_exploration"
   ]
  },
  {
   "cell_type": "code",
   "execution_count": null,
   "metadata": {},
   "outputs": [],
   "source": [
    "H = nx.from_pandas_edgelist(focus_exploration, 'block_code', 'company', edge_attr=['bid_amount', 'precentage_bid'])\n",
    "pos= nx.spring_layout(H)\n",
    "nx.draw(H, pos, with_labels=True)\n",
    "nx.draw_networkx_edge_labels(H, pos,\n",
    "                             edge_labels={('Focus Exploration','LA10A - 295'):0.1824, \n",
    "                                          ('Focus Exploration', 'LA6A - 267'):0.1650})\n",
    "plt.show()"
   ]
  },
  {
   "cell_type": "markdown",
   "metadata": {},
   "source": [
    "This is a graph of Focus Explorations bids. They were the only bidders on two blocks 295, 267 and spend `$`0.18, `$`0.16 mln respectively.  \n",
    "\n",
    "\n",
    "### Step 4. Draw Lease Sale 252 Graph"
   ]
  },
  {
   "cell_type": "code",
   "execution_count": null,
   "metadata": {},
   "outputs": [],
   "source": [
    "#Load another set of libraries for visualization\n",
    "\n",
    "import holoviews as hv\n",
    "from holoviews import opts, dim\n",
    "import networkx as nx\n",
    "\n",
    "import hvplot.networkx as hvnx"
   ]
  },
  {
   "cell_type": "code",
   "execution_count": null,
   "metadata": {},
   "outputs": [],
   "source": [
    "#Create graph with holoviews\n",
    "\n",
    "kowargs = dict(width=900, height=900, xaxis=None, yaxis=None)\n",
    "opts.defaults(opts.Nodes(**kowargs), opts.Graph(**kowargs))\n",
    "\n",
    "color_cycle = hv.Cycle(['red', 'blue']).values\n",
    "graph = hv.Graph.from_networkx(G, nx.layout.kamada_kawai_layout)\n",
    "\n",
    "graph.opts(cmap=color_cycle, node_size=10, edge_line_width=hv.dim('bid_amount')/2,\n",
    "              node_line_color='gray', node_color=\"status\")"
   ]
  },
  {
   "cell_type": "markdown",
   "metadata": {},
   "source": [
    "#### What is this graph telling us?  Total vs. Fieldwood\n",
    "![alt text](../images/graph_explain.png)\n",
    "\n",
    "In this case Total bid quite a bit more for blocks 693 and 737 and won them.  There are a lot more interesting relationships in this graph take a moment to explore more.\n",
    "\n",
    "#### Building a true Social Network\n",
    "The graph above shows the relationships between companies and blocsk but doesn't capture who was bidding with who.  Let's build a second graph but with only this information.  This new graph will need to be built from the original DataFrame, but instead of showing all these steps I've created a __.py__ file.  This is a text file that has a block of code that will be all run at once.  This is a quick and useful way to share code with others instead of them having open Jupyter."
   ]
  },
  {
   "cell_type": "code",
   "execution_count": null,
   "metadata": {},
   "outputs": [],
   "source": [
    "#run a .py file, creating a new graph called \"H\"\n",
    "%run -i \"cobidders.py\""
   ]
  },
  {
   "cell_type": "code",
   "execution_count": null,
   "metadata": {},
   "outputs": [],
   "source": [
    "#generate plot of H\n",
    "cobidders = hv.Graph.from_networkx(H, nx.layout.circular_layout)\n",
    "cobidders.opts(node_size=25, edge_line_width=hv.dim('count'), node_line_color='gray')"
   ]
  },
  {
   "cell_type": "markdown",
   "metadata": {},
   "source": [
    "This graph is being plotted in a circular layout to show relationships better.  The width of the line is a count of how many blocks were bid on by the partnership.  Beacon and Houston Energy have the thickest line (8 blocks total).  Shell only bid 100% for blocks so is not in this graph.\n",
    "\n",
    "### Step 5. Analysis of the Graphs\n",
    "\n",
    "Graphs aren't just used for pretty diagrams, the connections can be analyzed by different techniques to describe relationships and groups of similiar companies.  Let's experiment with three types of analyses:\n",
    "1. Degree Centrality\n",
    "2. Shortest Path\n",
    "3. Modularity\n",
    "\n",
    "#### Degree Centrality\n",
    "Centrality is a measure for each node that says what fraction of nodes within the graph it is connected to.  We can use this figure out who were the major and minor players without having to look at the graph or table."
   ]
  },
  {
   "cell_type": "code",
   "execution_count": null,
   "metadata": {},
   "outputs": [],
   "source": [
    "#Calculate degree centrality\n",
    "G_degree_centralilty = nx.degree_centrality(G)\n",
    "\n",
    "#Dataframe of top 5\n",
    "dG = pd.DataFrame.from_records(sorted(G_degree_centralilty.items(), key=lambda x: x[1], reverse=True)[:5], columns=['company', 'degree_cent'])\n",
    "\n",
    "#Quick plot of top 5\n",
    "ax = dG.plot.barh(x='company', y='degree_cent')"
   ]
  },
  {
   "cell_type": "markdown",
   "metadata": {},
   "source": [
    "This plot effectively shows the top 5 bidders for LS 252, as the graph is only company-block.  The Social network should show us a different set of players however."
   ]
  },
  {
   "cell_type": "code",
   "execution_count": null,
   "metadata": {},
   "outputs": [],
   "source": [
    "#Calculate degree centrality\n",
    "H_degree_centralilty = nx.degree_centrality(H)\n",
    "\n",
    "#Dataframe of top 5\n",
    "dH = pd.DataFrame.from_records(sorted(H_degree_centralilty.items(), key=lambda x: x[1], reverse=True)[:5], columns=['company', 'degree_cent'])\n",
    "\n",
    "#Quick plot of top 5\n",
    "ax = dH.plot.barh(x='company', y='degree_cent')"
   ]
  },
  {
   "cell_type": "markdown",
   "metadata": {},
   "source": [
    "These five companies are the most connected and all have the same number of relationships.  This graph speaks to the different strategies that companies have in the GOM: Shell goes it alone; Beacon loves a party.\n",
    "\n",
    "#### Shortest Path\n",
    "\n",
    "This is the same concept as Six Degrees of Kevin Bacon, except now we are looking for the nodes (companies or blocks) that are furthest away from a given node, in this case Shell."
   ]
  },
  {
   "cell_type": "code",
   "execution_count": null,
   "metadata": {},
   "outputs": [],
   "source": [
    "Shell_shortest_path = nx.shortest_path_length(G, target='Shell Offshore Inc.', weight=None)\n",
    "sorted(Shell_shortest_path.items(), key=lambda x: x[1], reverse=True)[:10]\n",
    "\n",
    "#Dataframe of top 5\n",
    "dH = pd.DataFrame.from_records(sorted(Shell_shortest_path.items(), key=lambda x: x[1], reverse=True)[:10], columns=['node', 'Number_of_hops'])\n",
    "\n",
    "#Quick plot of top 5\n",
    "ax = dH.plot.barh(x='node', y='Number_of_hops')"
   ]
  },
  {
   "cell_type": "markdown",
   "metadata": {},
   "source": [
    "This chart tells us that the blocks of interest for Ridgewood, Venari, and Talos are furthest away from Shell.  Or to put it another way, we are after different things from each other.\n",
    "\n",
    "#### Communities\n",
    "\n",
    "Another tool that graphs provide is identificaiton of communities, where nodes have similiar connections even though they may not be directly connected.  In the case of company-block graph, communities would show which companies are interested in which kinds of blocks (i.e. play).  "
   ]
  },
  {
   "cell_type": "code",
   "execution_count": null,
   "metadata": {},
   "outputs": [],
   "source": [
    "#import community algorithms\n",
    "from networkx.algorithms.community import greedy_modularity_communities\n",
    "\n",
    "#generate modulatiry dictionary per node\n",
    "mod_communities=greedy_modularity_communities(G)"
   ]
  },
  {
   "cell_type": "code",
   "execution_count": null,
   "metadata": {},
   "outputs": [],
   "source": [
    "def map_communities(G, communities):\n",
    "    \"\"\"Return a mapping of community membership from a community set tuple\"\"\"\n",
    "    community_map = {}\n",
    "    for node in G.nodes():\n",
    "        for i, comm in enumerate(communities):\n",
    "            if node in comm:\n",
    "                community_map[node] = i\n",
    "        if community_map.get(node, None) is None:\n",
    "            community_map[node] = None\n",
    "    return community_map"
   ]
  },
  {
   "cell_type": "code",
   "execution_count": null,
   "metadata": {},
   "outputs": [],
   "source": [
    "#Map each node to its community\n",
    "community_map = map_communities(G, mod_communities)\n",
    "\n",
    "#Add community to attribute of node\n",
    "nx.set_node_attributes(G, community_map, 'community')"
   ]
  },
  {
   "cell_type": "code",
   "execution_count": null,
   "metadata": {},
   "outputs": [],
   "source": [
    "#Create graph with holoviews of communities\n",
    "\n",
    "kowargs = dict(width=900, height=900, xaxis=None, yaxis=None)\n",
    "opts.defaults(opts.Nodes(**kowargs), opts.Graph(**kowargs))\n",
    "\n",
    "graph = hv.Graph.from_networkx(G, nx.layout.spring_layout)\n",
    "graph.opts(cmap=cm.tab20c, node_size=10, edge_line_width=hv.dim('bid_amount')/2,\n",
    "              node_line_color='gray', node_color=\"community\")"
   ]
  },
  {
   "cell_type": "markdown",
   "metadata": {},
   "source": [
    "In the plot above we see that Shell is so distinct from other companies that it forms its own community.  Chevron, Total, Fieldwood (orange) all have interest in the same blocks so they form another community."
   ]
  }
 ],
 "metadata": {
  "kernelspec": {
   "display_name": "Python 3",
   "language": "python",
   "name": "python3"
  },
  "language_info": {
   "codemirror_mode": {
    "name": "ipython",
    "version": 3
   },
   "file_extension": ".py",
   "mimetype": "text/x-python",
   "name": "python",
   "nbconvert_exporter": "python",
   "pygments_lexer": "ipython3",
   "version": "3.6.6"
  }
 },
 "nbformat": 4,
 "nbformat_minor": 2
}
