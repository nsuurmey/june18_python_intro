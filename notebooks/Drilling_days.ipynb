{
 "cells": [
  {
   "cell_type": "code",
   "execution_count": null,
   "metadata": {},
   "outputs": [],
   "source": [
    "import pandas as pd\n",
    "import numpy as np\n",
    "from lifelines import KaplanMeierFitter\n",
    "import matplotlib.pyplot as plt\n",
    "import seaborn as sns\n",
    "%matplotlib inline\n",
    "sns.set()"
   ]
  },
  {
   "cell_type": "markdown",
   "metadata": {},
   "source": [
    "## Introduction - What is Survival Analysis?\n",
    "Example taken from:\n",
    "https://lifelines.readthedocs.io/en/latest/Survival%20analysis%20with%20lifelines.html"
   ]
  },
  {
   "cell_type": "code",
   "execution_count": null,
   "metadata": {},
   "outputs": [],
   "source": [
    "#Load example data on the years of different regimes\n",
    "\n",
    "from lifelines.datasets import load_dd\n",
    "data = load_dd()\n",
    "data.head()"
   ]
  },
  {
   "cell_type": "code",
   "execution_count": null,
   "metadata": {},
   "outputs": [],
   "source": [
    "#Select data for analysis\n",
    "T = data[\"duration\"]\n",
    "E = data[\"observed\"]\n",
    "\n",
    "#Initiate model and fit model\n",
    "kmf = KaplanMeierFitter()\n",
    "kmf.fit(T, event_observed=E)"
   ]
  },
  {
   "cell_type": "code",
   "execution_count": null,
   "metadata": {},
   "outputs": [],
   "source": [
    "#Plot a Survival Function \n",
    "kmf.plot(figsize=(10,10))\n",
    "plt.title('Survival function of political regimes');"
   ]
  },
  {
   "cell_type": "markdown",
   "metadata": {},
   "source": [
    "##### What this graph is telling you\n",
    "* x-axis: years in office\n",
    "* y-axis: probability of a leader still around after x years in office\n",
    "* For Example: _There's a 20% that a leader will be in office more than 8 years._\n",
    "\n",
    "##### However, that not the whole story . . .\n",
    "There are many different types of government, do we see differences?  Let's create another plot but this time filter out Democratic vs. Non-Democratic regimes."
   ]
  },
  {
   "cell_type": "code",
   "execution_count": null,
   "metadata": {},
   "outputs": [],
   "source": [
    "#Survival analysis plots for Democratic vs. Non-Democratic regimes\n",
    "ax = plt.subplot(111)\n",
    "\n",
    "dem = (data[\"democracy\"] == \"Democracy\") #filter for regimes\n",
    "\n",
    "#Fit two different models\n",
    "kmf.fit(T[dem], event_observed=E[dem], label=\"Democratic Regimes\")\n",
    "kmf.plot(ax=ax, figsize=(10,10))\n",
    "kmf.fit(T[~dem], event_observed=E[~dem], label=\"Non-democratic Regimes\")\n",
    "kmf.plot(ax=ax)\n",
    "\n",
    "#plot\n",
    "plt.ylim(0, 1);\n",
    "plt.title(\"Lifespans of different global regimes\");"
   ]
  },
  {
   "cell_type": "markdown",
   "metadata": {},
   "source": [
    "##### Now we can see differences that allow us to be more predictive"
   ]
  },
  {
   "cell_type": "markdown",
   "metadata": {},
   "source": [
    "## Exercise - Survival Analysis of Days Drilling in the Mississippi Canyon Protracton, GOM.\n",
    "\n",
    "The Mississippi Canyon Protraction Area in the Gulf of Mexico is one of the most prolific parts of the basin with some of its largest fields (Mars/Ursa, Thunderhorse).  Thousands of wells by different operators have been drilled here and likley many more.  A commone question\n",
    "\n",
    "## Step 1.  Load Data and Generate Calculated Columns\n",
    "We will be loading these data from an Excel sheet and then calculate the number of days drilled for each well based on its spude date and data at total depth."
   ]
  },
  {
   "cell_type": "code",
   "execution_count": null,
   "metadata": {},
   "outputs": [],
   "source": [
    "#Load all well drilled in protraction area\n",
    "df = pd.read_excel('../data/BoreholeMC.xlsx')\n",
    "df.head()"
   ]
  },
  {
   "cell_type": "code",
   "execution_count": null,
   "metadata": {},
   "outputs": [],
   "source": [
    "#Calculate Date Difference, creating new column \"drill_days\"\n",
    "df['drill_days']=df['Total Depth Date']-df['Spud Date']\n",
    "\n",
    "#Convert Date Difference to Days\n",
    "df['drill_days'] = df['drill_days']/np.timedelta64(1, 'D')\n",
    "\n",
    "#Create new dataframe of only days drilled for simplicity\n",
    "days = df[['drill_days', 'Type Code']].dropna()\n",
    "days.head()"
   ]
  },
  {
   "cell_type": "code",
   "execution_count": null,
   "metadata": {},
   "outputs": [],
   "source": [
    "#Initiate model and fit model\n",
    "kmf = KaplanMeierFitter()\n",
    "kmf.fit(days.drill_days, event_observed=None)"
   ]
  },
  {
   "cell_type": "code",
   "execution_count": null,
   "metadata": {},
   "outputs": [],
   "source": [
    "#Plot a Survival Function \n",
    "kmf.plot(figsize=(10,10))\n",
    "plt.title('Drilling Days Mississippi Canyon Protraciton Area');"
   ]
  },
  {
   "cell_type": "markdown",
   "metadata": {},
   "source": [
    "## Step 2. Clean and Filter Data\n",
    "\n",
    "The plot above is wrong, there's no way a well would have been drilling for 13 years! There must be some spurious data.  Let's investigate and clean."
   ]
  },
  {
   "cell_type": "code",
   "execution_count": null,
   "metadata": {},
   "outputs": [],
   "source": [
    "#Use Describe to look at metrics for dataframe\n",
    "days.describe().T"
   ]
  },
  {
   "cell_type": "code",
   "execution_count": null,
   "metadata": {},
   "outputs": [],
   "source": [
    "#Histogram of data to see where distribution sits, note log scale\n",
    "plt.hist(days.drill_days, range=(0,5000), log=True);"
   ]
  },
  {
   "cell_type": "markdown",
   "metadata": {},
   "source": [
    "Clearly there is something is askew as it is unlikely that an offshore well can be drilled in <7 days and no one plans for a well to take over a year to drill.  There are an array of methods to narrow these data down but tor practicality let's filter the data to wells that took between 7-150 days to drill.<br />  _If you would like to experiment with different numbers go ahead and update the code block below._"
   ]
  },
  {
   "cell_type": "code",
   "execution_count": null,
   "metadata": {},
   "outputs": [],
   "source": [
    "#Filter data to 7<x<365\n",
    "days_filtered = days.query(\"drill_days<150 & drill_days>7\")\n",
    "days_filtered.describe().T"
   ]
  },
  {
   "cell_type": "code",
   "execution_count": null,
   "metadata": {},
   "outputs": [],
   "source": [
    "#Plot filtered Survival Function \n",
    "kmf.fit(days_filtered.drill_days, event_observed=None)\n",
    "kmf.plot(figsize=(10,10));"
   ]
  },
  {
   "cell_type": "markdown",
   "metadata": {},
   "source": [
    "##  Step 3. Breaking out the data.\n",
    "The graph above makes more sense but just like in the intro we aren't taking account of the differences in the data.  One simple division we can make is to separate Exploration and Development wells."
   ]
  },
  {
   "cell_type": "code",
   "execution_count": null,
   "metadata": {},
   "outputs": [],
   "source": [
    "#Filting original data on arbitary date range\n",
    "df_filtered = df.query(\"drill_days<150 & drill_days>7\")\n",
    "\n",
    "#Create separate dataframes for Exploration and Development wells\n",
    "expl_days = df_filtered['drill_days'][df_filtered[\"Type Code\"] == \"E\"].dropna()\n",
    "dev_days = df_filtered['drill_days'][df_filtered[\"Type Code\"] != \"E\"].dropna()"
   ]
  },
  {
   "cell_type": "code",
   "execution_count": null,
   "metadata": {},
   "outputs": [],
   "source": [
    "#Survival plot for Exploration vs. Development\n",
    "ax = plt.subplot(111)\n",
    "kmf.fit(expl_days, event_observed=None, label=\"Exploration Wells\")\n",
    "kmf.plot(ax=ax, figsize=(10,10))\n",
    "kmf.fit(dev_days, event_observed=None, label=\"Development Wells\")\n",
    "kmf.plot(ax=ax)\n",
    "plt.ylim(0, 1);\n",
    "plt.title(\"Drilling Days for Exploration vs. Development Wells\");"
   ]
  },
  {
   "cell_type": "markdown",
   "metadata": {},
   "source": [
    "This is more informative and it makes sense.  Development wells (orange) should take shorter to drill than Exploration wells (blue). \n",
    "\n",
    "## Step 4. Functions and Exploring the data\n",
    "\n",
    "There's an addage that goes: __\"If you've repeated a workflow, its time to write a function.\"__ Functions in Python allow us to simply our work by writing a block of code to run through it all."
   ]
  },
  {
   "cell_type": "code",
   "execution_count": null,
   "metadata": {},
   "outputs": [],
   "source": [
    "#function to compare Exploration and Development wells for a particular company\n",
    "\n",
    "def company_expl_dev_lifelines(df, company, mindays=5, maxdays=365):\n",
    "    \n",
    "    #Filter Data\n",
    "    dn= df.loc[df['Company Name'].str.contains(company)]\n",
    "    dq = dn.loc[(df['drill_days'] >= mindays) & (dn['drill_days'] <= maxdays)]\n",
    "    de = dq['drill_days'][dq[\"Type Code\"] == \"E\"].dropna()\n",
    "    dd = dq['drill_days'][dq[\"Type Code\"] != \"E\"].dropna()\n",
    "\n",
    "    #Make Plot \n",
    "    ax = plt.subplot(111)\n",
    "    kmf.fit(de, event_observed=None, label=\"Exploration Wells\")\n",
    "    kmf.plot(ax=ax, figsize=(10,10))\n",
    "    kmf.fit(dd, event_observed=None, label=\"Development Wells\")\n",
    "    kmf.plot(ax=ax)\n",
    "\n",
    "    plt.ylim(0, 1);\n",
    "    plt.title(f\"Drilling Days for {company} - Exploration vs. Development Wells\");\n",
    "    plt.show()"
   ]
  },
  {
   "cell_type": "code",
   "execution_count": null,
   "metadata": {},
   "outputs": [],
   "source": [
    "company_expl_dev_lifelines(df, 'Shell', maxdays=150)"
   ]
  },
  {
   "cell_type": "markdown",
   "metadata": {},
   "source": [
    "Now its your turn to picks companies to plot.  To help you find names, below is a bar chart of the most prolific drillers in MC Protraction.  Note how the confidence intervals expand as there are fewer datapoints (i.e. Taylor Energy)."
   ]
  },
  {
   "cell_type": "code",
   "execution_count": null,
   "metadata": {},
   "outputs": [],
   "source": [
    "#Quick Plot of who's drilled the most in the protraction\n",
    "comp_counts = df['Company Name'].value_counts()\n",
    "comp_counts = comp_counts[comp_counts>50]\n",
    "comp_counts.plot(kind='barh', figsize=(5,5), title='Top Operators in MC (>50 Wells)', label='# Wells');"
   ]
  },
  {
   "cell_type": "code",
   "execution_count": null,
   "metadata": {},
   "outputs": [],
   "source": [
    "company_expl_dev_lifelines(df, 'Taylor')"
   ]
  },
  {
   "cell_type": "markdown",
   "metadata": {},
   "source": [
    "Another interesting comparison is to compare companies."
   ]
  },
  {
   "cell_type": "code",
   "execution_count": null,
   "metadata": {},
   "outputs": [],
   "source": [
    "def company_compare_lifelines(df, company1, company2, mindays=5, maxdays=365):\n",
    "    \n",
    "    #Filter Data\n",
    "    dd = df.loc[(df['drill_days'] >= mindays) & (df['drill_days'] <= maxdays)]\n",
    "    dn= dd.loc[df['Company Name'].str.contains(company1)].dropna()\n",
    "    do = dd.loc[df['Company Name'].str.contains(company2)].dropna()\n",
    "    \n",
    "    #Make Plot \n",
    "    ax = plt.subplot(111)\n",
    "    kmf.fit(dn.drill_days, event_observed=None, label=company1)\n",
    "    kmf.plot(ax=ax, figsize=(10,10))\n",
    "    kmf.fit(do.drill_days, event_observed=None, label=company2)\n",
    "    kmf.plot(ax=ax)\n",
    "\n",
    "    plt.ylim(0, 1);\n",
    "    plt.title(f\"Drilling Days for {company1} vs. {company2}\");\n",
    "    plt.show()"
   ]
  },
  {
   "cell_type": "code",
   "execution_count": null,
   "metadata": {},
   "outputs": [],
   "source": [
    "company_compare_lifelines(df, 'Shell', 'LLOG')"
   ]
  },
  {
   "cell_type": "code",
   "execution_count": null,
   "metadata": {},
   "outputs": [],
   "source": []
  }
 ],
 "metadata": {
  "kernelspec": {
   "display_name": "Python 3",
   "language": "python",
   "name": "python3"
  },
  "language_info": {
   "codemirror_mode": {
    "name": "ipython",
    "version": 3
   },
   "file_extension": ".py",
   "mimetype": "text/x-python",
   "name": "python",
   "nbconvert_exporter": "python",
   "pygments_lexer": "ipython3",
   "version": "3.6.6"
  }
 },
 "nbformat": 4,
 "nbformat_minor": 2
}
