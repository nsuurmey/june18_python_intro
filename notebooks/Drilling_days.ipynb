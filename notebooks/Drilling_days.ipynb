{
 "cells": [
  {
   "cell_type": "markdown",
   "metadata": {},
   "source": [
    "# Challenge: What's a probablistic estimate for number of days to drill a well?\n",
    "\n",
    "Often we use neighboring data points to built an estimate:\n",
    "* Number of days to drill a well.\n",
    "* Volume of oil produced after 90 days.\n",
    "* etc.\n",
    "\n",
    "To do this work we select data from the surrounding area and look at averages, medians, and averages.  But there's a lot more insights we can pull from these data if we use different tools.  </br>  \n",
    "\n",
    "For this notebook we are going to work with a statistical method called survival analysis which models the duration of event.  Survival analysis is used in the medical world to measure the effectiveness of new drugs but can be used for any type of data that has a duration.\n"
   ]
  },
  {
   "cell_type": "markdown",
   "metadata": {},
   "source": [
    "## Introduction - Survival Analysis of Polictical Regimes.\n",
    "Example taken from:</br>\n",
    "https://lifelines.readthedocs.io/en/latest/Survival%20analysis%20with%20lifelines.html"
   ]
  },
  {
   "cell_type": "code",
   "execution_count": null,
   "metadata": {},
   "outputs": [],
   "source": [
    "#Import libraries\n",
    "import pandas as pd\n",
    "import numpy as np\n",
    "from lifelines import KaplanMeierFitter\n",
    "import matplotlib.pyplot as plt\n",
    "import seaborn as sns\n",
    "import scipy.misc\n",
    "%matplotlib inline\n",
    "sns.set()"
   ]
  },
  {
   "cell_type": "markdown",
   "metadata": {},
   "source": [
    "Let's load and inspect the example dataset of regimes."
   ]
  },
  {
   "cell_type": "code",
   "execution_count": null,
   "metadata": {},
   "outputs": [],
   "source": [
    "from lifelines.datasets import load_dd\n",
    "data = load_dd()\n",
    "data.head()"
   ]
  },
  {
   "cell_type": "markdown",
   "metadata": {},
   "source": [
    "Interesting stuff!  For this analysis we need two columns \"duration\" and \"observed\".  The former is the data to make the plot and the latter filters the data to only leaders that finished their term naturally, no coups or death in offices.</br>\n",
    "\n",
    "Let's pull these columns out into their own objects: T and E</br>\n",
    "\n",
    "Next we'll call the a method of survival analysis called the Kaplan Meier and fit it to the data."
   ]
  },
  {
   "cell_type": "code",
   "execution_count": null,
   "metadata": {},
   "outputs": [],
   "source": [
    "#Select data for analysis\n",
    "T = data[\"duration\"]\n",
    "E = data[\"observed\"]\n",
    "\n",
    "#Initiate model and fit model\n",
    "kmf = KaplanMeierFitter()\n",
    "kmf.fit(T, event_observed=E)"
   ]
  },
  {
   "cell_type": "markdown",
   "metadata": {},
   "source": [
    "The model is built let's plot the results."
   ]
  },
  {
   "cell_type": "code",
   "execution_count": null,
   "metadata": {},
   "outputs": [],
   "source": [
    "#Plot a Survival Function \n",
    "kmf.plot(figsize=(10,10))\n",
    "plt.title('Survival function of political regimes');"
   ]
  },
  {
   "cell_type": "markdown",
   "metadata": {},
   "source": [
    "##### What this graph is telling you\n",
    "* x-axis: duration in office in years\n",
    "* y-axis: probability of a leader still around after x years in office\n",
    "* The shaded area is the confidence interval of the data.\n",
    "* For Example: _There's a 20% that a leader will be in office more than 8 years._\n",
    "\n",
    "##### However, that not the whole story . . .\n",
    "There are many different types of governments which behave differently.  Let's create another plot but this time filter out Democratic vs. Non-Democratic regimes."
   ]
  },
  {
   "cell_type": "code",
   "execution_count": null,
   "metadata": {},
   "outputs": [],
   "source": [
    "#Survival analysis plots for Democratic vs. Non-Democratic regimes\n",
    "ax = plt.subplot(111)\n",
    "\n",
    "dem = (data[\"democracy\"] == \"Democracy\") #filter for regimes\n",
    "\n",
    "#Fit two different models\n",
    "kmf.fit(T[dem], event_observed=E[dem], label=\"Democratic Regimes\")\n",
    "kmf.plot(ax=ax, figsize=(10,10))\n",
    "kmf.fit(T[~dem], event_observed=E[~dem], label=\"Non-democratic Regimes\")\n",
    "kmf.plot(ax=ax)\n",
    "\n",
    "#plot\n",
    "plt.ylim(0, 1);\n",
    "plt.title(\"Lifespans of different global regimes\");"
   ]
  },
  {
   "cell_type": "markdown",
   "metadata": {},
   "source": [
    "This plot makes sense as dictactors are more likley to remain in power longer than democratically elected officials.  \n",
    "\n",
    "Now let's try this technique with well data."
   ]
  },
  {
   "cell_type": "markdown",
   "metadata": {},
   "source": [
    "## Exercise - Survival Analysis of Days Drilling in the Mississippi Canyon Protracton, GOM.\n",
    "\n",
    "The Mississippi Canyon Protraction Area in the Gulf of Mexico is one of the most prolific parts of the basin with some of its largest fields (Mars/Ursa, Thunderhorse).  Thousands of wells by different operators have been drilled here and likley many more.  When planning a well it is a common analysis to look at surrounding wells to estimate time it will take to drill.  Instead of coming up with one number (i.e. average days of drilling), let's calculate a probability distribution.\n",
    "\n",
    "## Step 1.  Load Data and Generate Calculated Columns\n",
    "We will be loading these data from an csv file download for the U.S. BOEM."
   ]
  },
  {
   "cell_type": "code",
   "execution_count": null,
   "metadata": {},
   "outputs": [],
   "source": [
    "#Load all well drilled in protraction area\n",
    "df = pd.read_csv('../data/BoreholeMC.csv')\n",
    "\n",
    "#Show first 5 columns\n",
    "df.head()"
   ]
  },
  {
   "cell_type": "markdown",
   "metadata": {},
   "source": [
    "Next we need to calculate days drilled for each well using the columns \"Spud Date\" and \"Total Depth Date\".  We'll also need to filter out empty values as the Kaplan Meier method doesn't accept null values."
   ]
  },
  {
   "cell_type": "code",
   "execution_count": null,
   "metadata": {},
   "outputs": [],
   "source": [
    "#Remove empty values\n",
    "days=df[['Total Depth Date','Spud Date']].apply(pd.to_datetime, errors='coerce').dropna()\n",
    "\n",
    "#Calculate time difference\n",
    "days['drill_days']=days['Total Depth Date']-days['Spud Date']\n",
    "\n",
    "#Convert Date Difference to Days\n",
    "days['drill_days'] = days['drill_days']/np.timedelta64(1, 'D')\n",
    "\n",
    "#Show first 5 columns\n",
    "days.head()"
   ]
  },
  {
   "cell_type": "code",
   "execution_count": null,
   "metadata": {},
   "outputs": [],
   "source": [
    "#Initiate model and fit model\n",
    "kmf = KaplanMeierFitter()\n",
    "kmf.fit(days.drill_days, event_observed=None)"
   ]
  },
  {
   "cell_type": "code",
   "execution_count": null,
   "metadata": {},
   "outputs": [],
   "source": [
    "#Plot a Survival Function \n",
    "kmf.plot(figsize=(10,10))\n",
    "plt.title('Drilling Days Mississippi Canyon Protraciton Area');"
   ]
  },
  {
   "cell_type": "markdown",
   "metadata": {},
   "source": [
    "#### Does this look right?\n",
    "No, it does not."
   ]
  },
  {
   "cell_type": "markdown",
   "metadata": {},
   "source": [
    "## Step 2. Clean and Filter Data\n",
    "\n",
    "The plot above is wrong, there's no way a well would have been drilling for 13 years! There must be some spurious data.  Let's investigate and clean."
   ]
  },
  {
   "cell_type": "code",
   "execution_count": null,
   "metadata": {},
   "outputs": [],
   "source": [
    "#Use Describe to look at metrics for dataframe\n",
    "days.describe().T"
   ]
  },
  {
   "cell_type": "markdown",
   "metadata": {},
   "source": [
    "This quick description tells us alot:\n",
    "* The Min values is 0 days.  A deepwater well can't be drilled in 0 days.\n",
    "* As expected the max value is too high.\n",
    "* The P25, P50, P75 look right, implying that are spurious data is on the limits.\n",
    "\n",
    "We need to figure out a reasonable cutoffs.  To do so let's create a histogram of drilling days."
   ]
  },
  {
   "cell_type": "code",
   "execution_count": null,
   "metadata": {},
   "outputs": [],
   "source": [
    "#Histogram of drilling days\n",
    "fig = plt.subplots(figsize=(10,8))\n",
    "plt.hist(days.drill_days, range=(0,5000))\n",
    "plt.xlabel('Drilling Days')\n",
    "plt.title ('Histogram of Drilling Days')\n",
    "plt.show()"
   ]
  },
  {
   "cell_type": "markdown",
   "metadata": {},
   "source": [
    "This histogram isn't that useful since there's a large proportion of the data that is <500 days.  An ECDF plot, which shows the proportion of data points at a certain value might be more instructive."
   ]
  },
  {
   "cell_type": "code",
   "execution_count": null,
   "metadata": {},
   "outputs": [],
   "source": [
    "#Generate inputs for ECDF\n",
    "n = len(days.drill_days)\n",
    "x = np.sort(days.drill_days.values)\n",
    "y = np.arange (1,n+1)/n\n",
    "\n",
    "#Plot ECDF\n",
    "fig = plt.subplots(figsize=(10,8))\n",
    "plt.plot(x, y, marker='.', linestyle='none')\n",
    "plt.title('ECDF of Drilling Days in MC')\n",
    "plt.xlabel('Days Drill')\n",
    "plt.ylabel('Proportion of Data')\n",
    "plt.show()"
   ]
  },
  {
   "cell_type": "markdown",
   "metadata": {},
   "source": [
    "Still heavily skewed but if we zoom in to the upper right of the image we can make better sense of it."
   ]
  },
  {
   "cell_type": "code",
   "execution_count": null,
   "metadata": {},
   "outputs": [],
   "source": [
    "#Plot zoom of ECDF upper, left\n",
    "fig = plt.subplots(figsize=(10,8))\n",
    "plt.plot(x, y, marker='.', linestyle='none');\n",
    "plt.xlim(100,500)\n",
    "plt.ylim(0.9,1)\n",
    "plt.title('Zoom - ECDF of Drilling Days in MC')\n",
    "plt.xlabel('Days Drill')\n",
    "plt.ylabel('Proportion of Data')\n",
    "plt.show()"
   ]
  },
  {
   "cell_type": "markdown",
   "metadata": {},
   "source": [
    "Now we can easily read the plot we see that 93% of the data is less than 150 days, and that 96% of the data is less than 365 days.  Let's use this information to filter down the data to a more realistic range.  No one plans to drill a well for over a year.  Also, it is unlikely that an offshore well can be drilled in <7 days.  Let's use the Query fucntion to reduce the days range.\n",
    "\n",
    "<br />  _If you would like to experiment with different numbers go ahead and update the code block below._"
   ]
  },
  {
   "cell_type": "code",
   "execution_count": null,
   "metadata": {},
   "outputs": [],
   "source": [
    "#Filter data to 7<x<150\n",
    "days_filtered = days.query(\"drill_days<150 & drill_days>7\")\n",
    "\n",
    "#Describe filtered data\n",
    "days_filtered.describe().T"
   ]
  },
  {
   "cell_type": "code",
   "execution_count": null,
   "metadata": {},
   "outputs": [],
   "source": [
    "#Plot filtered Survival Function \n",
    "kmf.fit(days_filtered.drill_days, event_observed=None)\n",
    "kmf.plot(figsize=(10,10));"
   ]
  },
  {
   "cell_type": "markdown",
   "metadata": {},
   "source": [
    "This plot makes more sense.  _We can read the plot as 50% of the wells in MC took 35 days to drill._  The narrow confidence interval shows that this distribution is well constrained.\n",
    "\n",
    "##  Step 3. Breaking out the data - Exploration vs. Development\n",
    "The graph above is okay but just like in the introduction we aren't taking account of the differences in the data.  One simple division we can make is to separate Exploration and Development wells.\n",
    "\n",
    "To divide the wells we need to grab the \"Type Code\" column from the original data source.  One way to do that is to Merge the original dataframe with the days_filtered dataframe.  You may have noticed that pandas as an index column and as we've done our manipulations and filters that index column has been unchanged.  This allows us to match index columns from different dataframes to merge data."
   ]
  },
  {
   "cell_type": "code",
   "execution_count": null,
   "metadata": {},
   "outputs": [],
   "source": [
    "#Merge dataframes\n",
    "df_filtered = pd.merge(df, days_filtered['drill_days'], left_index=True, right_index=True)\n",
    "\n",
    "#New dataframe of data for analysis and drop an empyt cells\n",
    "df_filtered=df_filtered[['drill_days','Type Code']].dropna()\n",
    "\n",
    "#Create separate dataframes for Exploration and Development wells\n",
    "expl_days = df_filtered['drill_days'][df_filtered[\"Type Code\"] == \"E\"].dropna()\n",
    "dev_days = df_filtered['drill_days'][df_filtered[\"Type Code\"] != \"E\"].dropna()"
   ]
  },
  {
   "cell_type": "code",
   "execution_count": null,
   "metadata": {},
   "outputs": [],
   "source": [
    "#Survival plot for Exploration vs. Development\n",
    "ax = plt.subplot(111)\n",
    "kmf.fit(expl_days, event_observed=None, label=\"Exploration Wells\")\n",
    "kmf.plot(ax=ax, figsize=(10,10))\n",
    "kmf.fit(dev_days, event_observed=None, label=\"Development Wells\")\n",
    "kmf.plot(ax=ax)\n",
    "plt.ylim(0, 1);\n",
    "plt.title(\"Drilling Days for Exploration vs. Development Wells\");"
   ]
  },
  {
   "cell_type": "markdown",
   "metadata": {},
   "source": [
    "This is more informative and it makes sense.  Development wells (orange) should take shorter time to drill than Exploration wells (blue). \n",
    "\n",
    "## Step 4. Functions and Exploring the data\n",
    "\n",
    "Now that we have the data in shape we can ask a log more questions like:\n",
    "* How do Exploration and Development wells compare for different companies?\n",
    "* How do different companies compare in their drill times?\n",
    "\n",
    "There's an addage that goes: \n",
    "\n",
    "__\"If you've repeated a workflow, its time to write a function.\"__ \n",
    "\n",
    "Functions in Python allow us to save out a sequence of code then call it when needed with the ability to put in new data types or variables.\n",
    "\n",
    "The funciton below allows us to compare Exploration and Development wells for a particular company.  We'll call this fucntion \"company_expl_dev_lifelines\" and it has several inputs that are behind the brackes:\n",
    "1. df - this is a placeholder for an dataframe with a \"drill_days\" column\n",
    "2. compnay - this is a placeholder for a name of a company\n",
    "3. mindays - this is a variable that filters the data we can chose to set or not "
   ]
  },
  {
   "cell_type": "code",
   "execution_count": null,
   "metadata": {},
   "outputs": [],
   "source": [
    "#function to compare Exploration and Development wells for a particular company\n",
    "\n",
    "def company_expl_dev_lifelines(df, company):\n",
    "    \n",
    "    #Filter Data\n",
    "    dn= df.loc[df['Company Name'].str.contains(company)]\n",
    "    dk = pd.merge(dn, days_filtered['drill_days'], left_index=True, right_index=True)\n",
    "    dk=dk[['drill_days','Type Code']].dropna()\n",
    "\n",
    "    de = dk['drill_days'][dk[\"Type Code\"] == \"E\"].dropna()\n",
    "    dd = dk['drill_days'][dk[\"Type Code\"] != \"E\"].dropna()\n",
    "\n",
    "    #Make Plot \n",
    "    ax = plt.subplot(111)\n",
    "    kmf.fit(de, event_observed=None, label=\"Exploration Wells\")\n",
    "    kmf.plot(ax=ax, figsize=(10,10))\n",
    "    kmf.fit(dd, event_observed=None, label=\"Development Wells\")\n",
    "    kmf.plot(ax=ax)\n",
    "\n",
    "    plt.ylim(0, 1);\n",
    "    plt.title(f\"Drilling Days for {company} - Exploration vs. Development Wells\");\n",
    "    plt.show()"
   ]
  },
  {
   "cell_type": "markdown",
   "metadata": {},
   "source": [
    "Let's try this fucntion out with Shell."
   ]
  },
  {
   "cell_type": "code",
   "execution_count": null,
   "metadata": {},
   "outputs": [],
   "source": [
    "company_expl_dev_lifelines(df, 'Shell')"
   ]
  },
  {
   "cell_type": "markdown",
   "metadata": {},
   "source": [
    "Now its your turn to picks companies to plot.  To help you find names, below is a bar chart of the most prolific drillers in MC Protraction.  Note how the confidence intervals expand as there are fewer datapoints (i.e. Taylor Energy)."
   ]
  },
  {
   "cell_type": "code",
   "execution_count": null,
   "metadata": {},
   "outputs": [],
   "source": [
    "#Quick Plot of who's drilled the most in the protraction\n",
    "comp_counts = df['Company Name'].value_counts()\n",
    "comp_counts = comp_counts[comp_counts>50]\n",
    "comp_counts.plot(kind='barh', figsize=(5,5), title='Top Operators in MC (>50 Wells)', label='# Wells');"
   ]
  },
  {
   "cell_type": "code",
   "execution_count": null,
   "metadata": {},
   "outputs": [],
   "source": [
    "company_expl_dev_lifelines(df, 'Taylor')"
   ]
  },
  {
   "cell_type": "markdown",
   "metadata": {},
   "source": [
    "### How do different companies compare in their drill times?\n",
    "\n",
    "Below is a similiar looking function but it compares wells from two different companies.  Note that you now need to add two compay names."
   ]
  },
  {
   "cell_type": "code",
   "execution_count": null,
   "metadata": {},
   "outputs": [],
   "source": [
    "def company_compare_lifelines(df, company1, company2):\n",
    "    \n",
    "    #Filter Data\n",
    "    dk = pd.merge(df, days_filtered['drill_days'], left_index=True, right_index=True)\n",
    "    dk=dk[['drill_days','Type Code']].dropna()    \n",
    "    dn= dk.loc[df['Company Name'].str.contains(company1)].dropna()\n",
    "    do = dk.loc[df['Company Name'].str.contains(company2)].dropna()\n",
    "    \n",
    "    #Make Plot \n",
    "    ax = plt.subplot(111)\n",
    "    kmf.fit(dn.drill_days, event_observed=None, label=company1)\n",
    "    kmf.plot(ax=ax, figsize=(10,10))\n",
    "    kmf.fit(do.drill_days, event_observed=None, label=company2)\n",
    "    kmf.plot(ax=ax)\n",
    "\n",
    "    plt.ylim(0, 1);\n",
    "    plt.title(f\"Drilling Days for {company1} vs. {company2}\");\n",
    "    plt.show()"
   ]
  },
  {
   "cell_type": "code",
   "execution_count": null,
   "metadata": {},
   "outputs": [],
   "source": [
    "company_compare_lifelines(df, 'Shell', 'Exxon')"
   ]
  },
  {
   "cell_type": "markdown",
   "metadata": {},
   "source": [
    "There's lots more to explore with these Suvival Analysis: different cuts of data, different day, analysis of the distributions, etc.\n",
    "\n",
    "Where else do you have duration data that might fit well in these kinds of plots?"
   ]
  },
  {
   "cell_type": "code",
   "execution_count": null,
   "metadata": {},
   "outputs": [],
   "source": [
    "x"
   ]
  }
 ],
 "metadata": {
  "kernelspec": {
   "display_name": "Python 3",
   "language": "python",
   "name": "python3"
  },
  "language_info": {
   "codemirror_mode": {
    "name": "ipython",
    "version": 3
   },
   "file_extension": ".py",
   "mimetype": "text/x-python",
   "name": "python",
   "nbconvert_exporter": "python",
   "pygments_lexer": "ipython3",
   "version": "3.6.6"
  }
 },
 "nbformat": 4,
 "nbformat_minor": 2
}
